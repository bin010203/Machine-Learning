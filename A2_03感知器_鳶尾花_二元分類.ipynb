{
  "nbformat": 4,
  "nbformat_minor": 0,
  "metadata": {
    "kernelspec": {
      "display_name": "Python 3",
      "language": "python",
      "name": "python3"
    },
    "language_info": {
      "codemirror_mode": {
        "name": "ipython",
        "version": 3
      },
      "file_extension": ".py",
      "mimetype": "text/x-python",
      "name": "python",
      "nbconvert_exporter": "python",
      "pygments_lexer": "ipython3",
      "version": "3.6.9"
    },
    "colab": {
      "name": "A2-03感知器_鳶尾花_二元分類.ipynb",
      "provenance": [],
      "collapsed_sections": [],
      "include_colab_link": true
    }
  },
  "cells": [
    {
      "cell_type": "markdown",
      "metadata": {
        "id": "view-in-github",
        "colab_type": "text"
      },
      "source": [
        "<a href=\"https://colab.research.google.com/github/bin010203/Machine-Learning/blob/main/A2_03%E6%84%9F%E7%9F%A5%E5%99%A8_%E9%B3%B6%E5%B0%BE%E8%8A%B1_%E4%BA%8C%E5%85%83%E5%88%86%E9%A1%9E.ipynb\" target=\"_parent\"><img src=\"https://colab.research.google.com/assets/colab-badge.svg\" alt=\"Open In Colab\"/></a>"
      ]
    },
    {
      "cell_type": "markdown",
      "metadata": {
        "id": "zci5-Ij6QfGu"
      },
      "source": [
        "# 實作03：利用感知器以鳶尾花的兩種特徵做二元分類"
      ]
    },
    {
      "cell_type": "markdown",
      "metadata": {
        "id": "tYkQGJAlQ2kY"
      },
      "source": [
        "### (1)掛載雲端硬碟"
      ]
    },
    {
      "cell_type": "code",
      "metadata": {
        "id": "bToQRNVwQ4Bw",
        "colab": {
          "base_uri": "https://localhost:8080/"
        },
        "outputId": "67d62563-0e63-464e-d592-d30e2238b56d"
      },
      "source": [
        "from google.colab import drive\n",
        "drive.mount('/content/drive')"
      ],
      "execution_count": null,
      "outputs": [
        {
          "output_type": "stream",
          "name": "stdout",
          "text": [
            "Mounted at /content/drive\n"
          ]
        }
      ]
    },
    {
      "cell_type": "markdown",
      "metadata": {
        "id": "qz5zlHh_QfGw"
      },
      "source": [
        "### (2)import必要的套件"
      ]
    },
    {
      "cell_type": "code",
      "metadata": {
        "id": "p-nVGunlsfCs"
      },
      "source": [
        "import numpy as np\n",
        "from IPython import display\n",
        "import matplotlib.pyplot as plt\n",
        "import matplotlib.font_manager as plt_font\n",
        "#要記得改為自己的字形檔案路徑\n",
        "twfont1 = plt_font.FontProperties(\n",
        "    fname=\"/content/drive/MyDrive/Colab Notebooks/kaiu.ttf\")\n",
        "#若 fname 沒有設定路徑檔案,此格不會出錯,但是後面繪圖用中文字形會出錯"
      ],
      "execution_count": null,
      "outputs": []
    },
    {
      "cell_type": "markdown",
      "metadata": {
        "id": "e48yr-5yQfG6"
      },
      "source": [
        "### (3)整理鳶尾花特徵資料集和分類標示資料集"
      ]
    },
    {
      "cell_type": "code",
      "metadata": {
        "id": "hQyJyb0BLJPk"
      },
      "source": [
        "#data_x1為花萼長度\n",
        "data_x1 = np.array([5.1 ,5.5 ,4.9 ,6.5 ,4.7 ,\n",
        "                    5.7 ,4.6 ,6.3 ,5.0 ,4.9 ,\n",
        "                    5.4 ,6.6 ,4.6 ,5.2 ,5.0 ,\n",
        "                    5.0 ,4.4 ,5.9 ,4.9 ,6.0 ,\n",
        "                    5.4 ,6.1 ,4.8 ,5.6 ,4.8 ,\n",
        "                    6.7 ,4.3 ,5.6 ,5.8 ,5.8 ,\n",
        "                    5.7 ,6.2 ,5.4 ,5.6 ,5.1 ,\n",
        "                    5.9 ,5.7 ,6.1 ,5.1 ,6.3 ,\n",
        "                    5.4 ,6.1 ,5.1 ,6.4 ,4.6 ,\n",
        "                    6.6 ,5.1 ,6.8 ,4.8 ,6.7 ,\n",
        "                    5.0 ,6.0 ,5.0 ,5.7 ,5.2 ,\n",
        "                    5.5 ,5.2 ,5.5 ,4.7 ,5.8 ,\n",
        "                    4.8 ,6.0 ,5.4 ,7.0 ,6.4 ,6.9])\n",
        "#data_x1為花萼寬度\n",
        "data_x2 = np.array([3.5 ,2.3 ,3.0 ,2.8 ,3.2 ,\n",
        "                    2.8 ,3.1 ,3.3 ,3.6 ,2.4 ,\n",
        "                    3.9 ,2.9 ,3.4 ,2.7 ,3.4 ,\n",
        "                    2.0 ,2.9 ,3.0 ,3.1 ,2.2 ,\n",
        "                    3.7 ,2.9 ,3.4 ,2.9 ,3.0 ,\n",
        "                    3.1 ,3.0 ,3.0 ,4.0 ,2.7 ,\n",
        "                    4.4 ,2.2 ,3.9 ,2.5 ,3.5 ,\n",
        "                    3.2 ,3.8 ,2.8 ,3.8 ,2.5 ,\n",
        "                    3.4 ,2.8 ,3.7 ,2.9 ,3.6 ,\n",
        "                    3.0 ,3.3 ,2.8 ,3.4 ,3.0 ,\n",
        "                    3.0 ,2.9 ,3.4 ,2.6 ,3.5 ,\n",
        "                    2.4 ,3.4 ,2.4 ,3.2 ,2.7 ,\n",
        "                    3.1 ,2.7 ,3.4 ,3.2 ,3.2 ,3.1])\n",
        "#標示+1為山鳶尾(setosa)、標示-1為雜色鳶尾(versicolor)\n",
        "data_y  = np.array([+1  ,-1  ,+1  ,-1  ,+1  ,\n",
        "                    -1  ,+1  ,-1  ,+1  ,-1  ,\n",
        "                    +1  ,-1  ,+1  ,-1  ,+1  ,\n",
        "                    -1  ,+1  ,-1  ,+1  ,-1  ,\n",
        "                    +1  ,-1  ,+1  ,-1  ,+1  ,\n",
        "                    -1  ,+1  ,-1  ,+1  ,-1  ,\n",
        "                    +1  ,-1  ,+1  ,-1  ,+1  ,\n",
        "                    -1  ,+1  ,-1  ,+1  ,-1  ,\n",
        "                    +1  ,-1  ,+1  ,-1  ,+1  ,\n",
        "                    -1  ,+1  ,-1  ,+1  ,-1  ,\n",
        "                    +1  ,-1  ,+1  ,-1  ,+1  ,\n",
        "                    -1  ,+1  ,-1  ,+1  ,-1  ,\n",
        "                    +1  ,-1  ,+1  ,-1  ,-1  ,-1])"
      ],
      "execution_count": null,
      "outputs": []
    },
    {
      "cell_type": "markdown",
      "metadata": {
        "id": "rSdstjfIQfHa"
      },
      "source": [
        "### (4)定義將數據做特徵縮放處理-標準化的函數"
      ]
    },
    {
      "cell_type": "code",
      "source": [
        "# (data-data.mean())/data.std()"
      ],
      "metadata": {
        "id": "GRoYWIpc_0Il"
      },
      "execution_count": null,
      "outputs": []
    },
    {
      "cell_type": "code",
      "metadata": {
        "id": "6qfG910_QfHb"
      },
      "source": [
        "def FeatureScaling(data):\n",
        "    return "
      ],
      "execution_count": null,
      "outputs": []
    },
    {
      "cell_type": "markdown",
      "metadata": {
        "id": "Xh1-SIw5QfHU"
      },
      "source": [
        "### (5)將原始資料分為訓練資料集和驗證資料集"
      ]
    },
    {
      "cell_type": "code",
      "metadata": {
        "id": "omASjX3zQfHV"
      },
      "source": [
        "#訓練資料集50筆\n",
        "train_x1=FeatureScaling(data_x1)[:50]\n",
        "train_x2=FeatureScaling(data_x2)[:50]\n",
        "train_y=data_y[:50]\n",
        "#驗證資料集16筆\n",
        "valid_x1=FeatureScaling(data_x1)[50:]\n",
        "valid_x2=FeatureScaling(data_x2)[50:]\n",
        "valid_y=data_y[50:]"
      ],
      "execution_count": null,
      "outputs": []
    },
    {
      "cell_type": "markdown",
      "metadata": {
        "id": "3Q_RG0-9QfHv"
      },
      "source": [
        "### (6)隨機初始化權重矩陣"
      ]
    },
    {
      "cell_type": "code",
      "metadata": {
        "id": "S1t-pEgVQfHw"
      },
      "source": [
        "#亂數初始化權重係數為[2列1行]矩陣\n",
        "W=np.random.rand(2).reshape((2,1))\n",
        "B=np.random.rand(1).reshape((1,1))"
      ],
      "execution_count": null,
      "outputs": []
    },
    {
      "cell_type": "markdown",
      "metadata": {
        "id": "Qg-2rQ-zQfH0"
      },
      "source": [
        "### (7)定義線性累加函數"
      ]
    },
    {
      "cell_type": "code",
      "source": [
        "# np.dot(x,W)+B"
      ],
      "metadata": {
        "id": "eJuuUFbF_50q"
      },
      "execution_count": null,
      "outputs": []
    },
    {
      "cell_type": "code",
      "metadata": {
        "id": "hDTfr5MEQfH0"
      },
      "source": [
        "def Sumfun(x):\n",
        "  return \n",
        "\n",
        "\n"
      ],
      "execution_count": null,
      "outputs": []
    },
    {
      "cell_type": "markdown",
      "metadata": {
        "id": "aelBdUogQfH6"
      },
      "source": [
        "### (8)定義激活函數與分類"
      ]
    },
    {
      "cell_type": "code",
      "source": [
        "#  z >= 0 \n",
        "#   -1"
      ],
      "metadata": {
        "id": "wvsPBdYr_-MB"
      },
      "execution_count": null,
      "outputs": []
    },
    {
      "cell_type": "code",
      "metadata": {
        "id": "DgXubX-dQfH9"
      },
      "source": [
        "def Actfun(z):\n",
        "  if :\n",
        "    return 1\n",
        "  else:\n",
        "    return\n",
        "\n",
        "\n"
      ],
      "execution_count": null,
      "outputs": []
    },
    {
      "cell_type": "markdown",
      "metadata": {
        "id": "0-v9FujCTz4q"
      },
      "source": [
        "### (9)設定訓練的參數"
      ]
    },
    {
      "cell_type": "code",
      "metadata": {
        "id": "xcLgrwxPUM1G"
      },
      "source": [
        "ETA=0.2\n",
        "Step_W=[]\n",
        "Step_B=[]"
      ],
      "execution_count": null,
      "outputs": []
    },
    {
      "cell_type": "markdown",
      "metadata": {
        "id": "2k0AE7ZQQfID"
      },
      "source": [
        "### (10)開始訓練模型"
      ]
    },
    {
      "cell_type": "code",
      "source": [
        "# zip(train_x1,train_x2,train_y)"
      ],
      "metadata": {
        "id": "VAoJRFH6AhHv"
      },
      "execution_count": null,
      "outputs": []
    },
    {
      "cell_type": "code",
      "metadata": {
        "id": "8Lix5utzQfIE",
        "colab": {
          "base_uri": "https://localhost:8080/",
          "height": 54
        },
        "outputId": "1218ea63-8fcd-4560-d066-651bc367318e"
      },
      "source": [
        "for epoch in range(10):\n",
        "  for x1,x2,y in :  #訓練資料\n",
        "    X=np.vstack([x1,x2]).T\n",
        "    z=Sumfun(X)\n",
        "    y_hat=Actfun(z)\n",
        "    W=W+ETA*(y-y_hat)*X.T\n",
        "    B=B+ETA*(y-y_hat)\n",
        "    if y != y_hat:\n",
        "      print(\"訓練次數:\",epoch+1,\"偏值:\",B[0],\n",
        "            \"權重w1:\",W[0],\"權重w2:\",W[1])\n",
        "      Step_W.append(W)\n",
        "      Step_B.append(B)\n",
        "      display.clear_output(wait=True)\n",
        "\n",
        "'''\n",
        "      if y!=y_hat:\n",
        "          print(\"訓練次數:\",epoch+1,\"偏值:\",B[0],\n",
        "                \"權重w1:\",W[0],\"權重w2:\",W[1])\n",
        "          Step_W.append(W)\n",
        "          Step_B.append(B)\n",
        "          display.clear_output(wait=True)\n",
        "''' "
      ],
      "execution_count": null,
      "outputs": [
        {
          "output_type": "execute_result",
          "data": {
            "application/vnd.google.colaboratory.intrinsic+json": {
              "type": "string"
            },
            "text/plain": [
              "'\\n      if y!=y_hat:\\n          print(\"訓練次數:\",epoch+1,\"偏值:\",B[0],\\n                \"權重w1:\",W[0],\"權重w2:\",W[1])\\n          Step_W.append(W)\\n          Step_B.append(B)\\n          display.clear_output(wait=True)\\n'"
            ]
          },
          "metadata": {},
          "execution_count": 10
        }
      ]
    },
    {
      "cell_type": "markdown",
      "metadata": {
        "id": "MByuveSBQfIM"
      },
      "source": [
        "### (11)顯示分類模型學習成果"
      ]
    },
    {
      "cell_type": "code",
      "source": [
        "# -(W[0]/W[1])*x1-B[0]/W[1]"
      ],
      "metadata": {
        "id": "szIqigGbA99v"
      },
      "execution_count": null,
      "outputs": []
    },
    {
      "cell_type": "code",
      "metadata": {
        "id": "MCqSTCSBQfIN",
        "colab": {
          "base_uri": "https://localhost:8080/",
          "height": 363
        },
        "outputId": "b767afb4-fc15-44dc-f04f-a1cc4da8bf97"
      },
      "source": [
        "x1 = np.linspace(-2, 2, 100)\n",
        "plt.figure(figsize=(9,5))\n",
        "plt.title(\"鳶尾花品種分佈圖\",\n",
        "          fontproperties=twfont1,fontsize=20) \n",
        "plt.xlabel(\"花萼長度\",\n",
        "           fontproperties=twfont1,fontsize=20) \n",
        "plt.ylabel(\"花萼寬度\",\n",
        "           fontproperties=twfont1,fontsize=20)\n",
        "plt.scatter(train_x1[0],train_x2[0],\n",
        "            c=\"b\",s=40,label=\"山鳶尾(setosa)\")\n",
        "plt.scatter(train_x1[0],train_x2[0],\n",
        "            c=\"r\",s=40,label=\"雜色鳶尾(versicolor)\")\n",
        "plt.scatter(train_x1,train_x2, \n",
        "            c=[\"b\" if i==1 else \"r\" for i in train_y ], s=40)\n",
        "plt.plot(x1, ,# Y軸的運算公式\n",
        "         linestyle='dashed',label=\"決策邊界\")\n",
        "plt.legend(prop=twfont1)\n",
        "plt.show()"
      ],
      "execution_count": null,
      "outputs": [
        {
          "output_type": "display_data",
          "data": {
            "image/png": "[encoded data removed]",
            "text/plain": [
              "<Figure size 648x360 with 1 Axes>"
            ]
          },
          "metadata": {
            "needs_background": "light"
          }
        }
      ]
    },
    {
      "cell_type": "markdown",
      "metadata": {
        "id": "7HBUr-ZMQfIR"
      },
      "source": [
        "### (12)動畫顯示決策邊界學習效果"
      ]
    },
    {
      "cell_type": "code",
      "metadata": {
        "id": "gJMF-qdZQfIT",
        "colab": {
          "base_uri": "https://localhost:8080/",
          "height": 381
        },
        "outputId": "c22a4094-78f3-4aa0-8795-942538c79e1c"
      },
      "source": [
        "x1 = np.linspace(-2, 2, 100)\n",
        "for i in range(len(Step_W)):\n",
        "    print(\"偏值:\",Step_B[i][0],\"權重w1:\",Step_W[i][0],\n",
        "          \"權重w2:\",Step_W[i][1])\n",
        "    plt.figure(figsize=(9,5))\n",
        "    plt.title(\"鳶尾花品種分佈圖\",\n",
        "              fontproperties=twfont1,fontsize=20) \n",
        "    plt.xlabel(\"花萼長度\",fontproperties=twfont1,fontsize=20) \n",
        "    plt.ylabel(\"花萼寬度\",fontproperties=twfont1,fontsize=20)\n",
        "    plt.scatter(train_x1[0],train_x2[0],\n",
        "                c=\"b\",s=40,label=\"山鳶尾(setosa)\")\n",
        "    plt.scatter(train_x1[0],train_x2[0],\n",
        "                c=\"r\",s=40,label=\"雜色鳶尾(versicolor)\")\n",
        "    plt.scatter(train_x1,train_x2, \n",
        "                c=[\"b\" if i==1 else \"r\" for i in train_y ], s=40)\n",
        "    plt.plot(x1,-(Step_W[i][0]/Step_W[i][1])*x1-Step_B[i][0]/Step_W[i][1], \n",
        "             linestyle='dashed',label=\"決策邊界\")\n",
        "    plt.legend(prop=twfont1)\n",
        "    plt.pause(1)\n",
        "    display.clear_output(wait=True)"
      ],
      "execution_count": null,
      "outputs": [
        {
          "output_type": "stream",
          "name": "stdout",
          "text": [
            "偏值: [-0.31960459] 權重w1: [-0.64037853] 權重w2: [0.59710489]\n"
          ]
        },
        {
          "output_type": "display_data",
          "data": {
            "image/png": "[encoded data removed]",
            "text/plain": [
              "<Figure size 648x360 with 1 Axes>"
            ]
          },
          "metadata": {
            "needs_background": "light"
          }
        }
      ]
    },
    {
      "cell_type": "markdown",
      "metadata": {
        "id": "oKLXOJlTQfIW"
      },
      "source": [
        "### (13)對於驗證集資料的分類效果"
      ]
    },
    {
      "cell_type": "code",
      "metadata": {
        "id": "aPVsvwNHQfIX",
        "colab": {
          "base_uri": "https://localhost:8080/",
          "height": 381
        },
        "outputId": "a771cd45-f833-4f81-b7b4-fc842538ae5d"
      },
      "source": [
        "x1 = np.linspace(-2, 2, 100)\n",
        "plt.figure(figsize=(9,5))\n",
        "plt.title(\"鳶尾花品種分佈圖\",fontproperties=twfont1,fontsize=20) \n",
        "plt.xlabel(\"花萼長度\",fontproperties=twfont1,fontsize=20) \n",
        "plt.ylabel(\"花萼寬度\",fontproperties=twfont1,fontsize=20)\n",
        "plt.scatter(valid_x1[0],valid_x2[0],\n",
        "            c=\"b\",s=40,label=\"山鳶尾(setosa)\")\n",
        "plt.scatter(valid_x1[0],valid_x2[0],\n",
        "            c=\"r\",s=40,label=\"雜色鳶尾(versicolor)\")\n",
        "plt.scatter(valid_x1,valid_x2, \n",
        "            c=[\"b\" if i==1 else \"r\" for i in valid_y ], s=40)\n",
        "plt.plot(x1, -(W[0]/W[1])*x1-B[0]/W[1], \n",
        "         linestyle='dashed',label=\"決策邊界\")\n",
        "plt.legend(prop=twfont1)"
      ],
      "execution_count": null,
      "outputs": [
        {
          "output_type": "execute_result",
          "data": {
            "text/plain": [
              "<matplotlib.legend.Legend at 0x7f8321223250>"
            ]
          },
          "metadata": {},
          "execution_count": 13
        },
        {
          "output_type": "display_data",
          "data": {
            "image/png": "[encoded data removed]",
            "text/plain": [
              "<Figure size 648x360 with 1 Axes>"
            ]
          },
          "metadata": {
            "needs_background": "light"
          }
        }
      ]
    },
    {
      "cell_type": "markdown",
      "metadata": {
        "id": "T_ZMaB1_QfIa"
      },
      "source": [
        "### (14)計算對驗證集資料的分類準確度"
      ]
    },
    {
      "cell_type": "code",
      "metadata": {
        "id": "DeVdNF5DQfIa",
        "colab": {
          "base_uri": "https://localhost:8080/"
        },
        "outputId": "0212475e-4a92-437e-d8f0-6747e6bdca47"
      },
      "source": [
        "Right=0\n",
        "for x1,x2,y in zip(valid_x1,valid_x2,valid_y):\n",
        "    X=np.vstack([x1,x2]).T\n",
        "    z=Sumfun(X)\n",
        "    y_hat=Actfun(z)\n",
        "    if y==y_hat:\n",
        "        Right+=1\n",
        "print(\"分類準確度:\",(Right/len(valid_y))*100,\"%\")\n"
      ],
      "execution_count": null,
      "outputs": [
        {
          "output_type": "stream",
          "name": "stdout",
          "text": [
            "分類準確度: 100.0 %\n"
          ]
        }
      ]
    }
  ]
}