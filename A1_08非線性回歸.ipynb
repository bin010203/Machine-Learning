{
  "nbformat": 4,
  "nbformat_minor": 0,
  "metadata": {
    "kernelspec": {
      "display_name": "Python 3",
      "language": "python",
      "name": "python3"
    },
    "language_info": {
      "codemirror_mode": {
        "name": "ipython",
        "version": 3
      },
      "file_extension": ".py",
      "mimetype": "text/x-python",
      "name": "python",
      "nbconvert_exporter": "python",
      "pygments_lexer": "ipython3",
      "version": "3.6.9"
    },
    "colab": {
      "name": "A1-08非線性回歸.ipynb",
      "provenance": [],
      "collapsed_sections": [],
      "include_colab_link": true
    }
  },
  "cells": [
    {
      "cell_type": "markdown",
      "metadata": {
        "id": "view-in-github",
        "colab_type": "text"
      },
      "source": [
        "<a href=\"https://colab.research.google.com/github/bin010203/Machine-Learning/blob/main/A1_08%E9%9D%9E%E7%B7%9A%E6%80%A7%E5%9B%9E%E6%AD%B8.ipynb\" target=\"_parent\"><img src=\"https://colab.research.google.com/assets/colab-badge.svg\" alt=\"Open In Colab\"/></a>"
      ]
    },
    {
      "cell_type": "markdown",
      "metadata": {
        "id": "m245a789riuV"
      },
      "source": [
        "# 實作08：非線性回歸"
      ]
    },
    {
      "cell_type": "markdown",
      "metadata": {
        "id": "NLoB4HXprzl2"
      },
      "source": [
        "### (0)掛載雲端硬碟"
      ]
    },
    {
      "cell_type": "code",
      "metadata": {
        "id": "IMpv9aU0r-6B",
        "colab": {
          "base_uri": "https://localhost:8080/"
        },
        "outputId": "c79bf43d-d621-4677-88d2-425225c8d841"
      },
      "source": [
        "from google.colab import drive\n",
        "drive.mount('/content/drive')"
      ],
      "execution_count": null,
      "outputs": [
        {
          "output_type": "stream",
          "name": "stdout",
          "text": [
            "Mounted at /content/drive\n"
          ]
        }
      ]
    },
    {
      "cell_type": "code",
      "metadata": {
        "id": "2NfNV_ebZwFl"
      },
      "source": [
        "#/content/drive/MyDrive/Colab Notebooks/kaiu.ttf"
      ],
      "execution_count": null,
      "outputs": []
    },
    {
      "cell_type": "markdown",
      "metadata": {
        "id": "d58JyA3FriuW"
      },
      "source": [
        "### (1)import必要的套件"
      ]
    },
    {
      "cell_type": "code",
      "metadata": {
        "id": "KZwfcfVnriuY"
      },
      "source": [
        "import numpy as np\n",
        "from IPython import display\n",
        "import matplotlib.pyplot as plt\n",
        "import matplotlib.font_manager as plt_font\n",
        "twfont1 = plt_font.FontProperties(\n",
        "    fname=\"\")"
      ],
      "execution_count": null,
      "outputs": []
    },
    {
      "cell_type": "markdown",
      "metadata": {
        "id": "fABvwlkgriud"
      },
      "source": [
        "### (2)定義特徵縮放的函數"
      ]
    },
    {
      "cell_type": "code",
      "metadata": {
        "id": "M9x_2NPIZyOB"
      },
      "source": [
        "#(data-data.min())/(data.max()-data.min())\n",
        "#(data-data.mean())/data.std()"
      ],
      "execution_count": null,
      "outputs": []
    },
    {
      "cell_type": "code",
      "metadata": {
        "id": "huOrc-90riue"
      },
      "source": [
        "#參數kind預設為0，做標準化；kind設為1，做歸一化\n",
        "def FeatureScaling(data,kind=0):\n",
        "  if kind==1:\n",
        "    return \n",
        "  else:\n",
        "    return"
      ],
      "execution_count": null,
      "outputs": []
    },
    {
      "cell_type": "markdown",
      "metadata": {
        "id": "Ve3Y-3nLriui"
      },
      "source": [
        "### (3)將原始資料分為訓練資料集和驗證資料集"
      ]
    },
    {
      "cell_type": "code",
      "metadata": {
        "id": "y0VjjU3aZ76r"
      },
      "source": [
        "#/content/drive/MyDrive/Colab Notebooks/SalesVolume.csv"
      ],
      "execution_count": null,
      "outputs": []
    },
    {
      "cell_type": "code",
      "metadata": {
        "id": "gm-6celdriuj"
      },
      "source": [
        "#由SalesVolume.csv檔案載入資料集\n",
        "data= np.loadtxt(\n",
        "    \"\",\n",
        "    delimiter=\",\")\n"
      ],
      "execution_count": null,
      "outputs": []
    },
    {
      "cell_type": "code",
      "metadata": {
        "id": "rIM58YWPd8hq"
      },
      "source": [
        "data"
      ],
      "execution_count": null,
      "outputs": []
    },
    {
      "cell_type": "code",
      "metadata": {
        "id": "ZkJtKCBJS63t"
      },
      "source": [
        "#第1列為廣告推播次數，並做特徵縮放，\n",
        "#第2參數設為0是標準化，設為1是歸一化\n",
        "data_x=FeatureScaling(data[0],0)\n",
        "data_y=data[1]#第2列為商品銷售數量\n",
        "#訓練資料集12筆\n",
        "train_x=data_x[:12]\n",
        "train_y=data_y[:12]\n",
        "#驗證資料集8筆\n",
        "valid_x=data_x[12:]\n",
        "valid_y=data_y[12:]\n"
      ],
      "execution_count": null,
      "outputs": []
    },
    {
      "cell_type": "code",
      "metadata": {
        "colab": {
          "base_uri": "https://localhost:8080/"
        },
        "id": "IQTzSUllTBZT",
        "outputId": "74c0622a-e859-4009-ea85-ed807830308d"
      },
      "source": [
        "data_x"
      ],
      "execution_count": null,
      "outputs": [
        {
          "output_type": "execute_result",
          "data": {
            "text/plain": [
              "array([ 1.47680664,  1.17387194,  0.11360051, -1.55254031, -0.79520357,\n",
              "        0.87093725, -1.40107296, -1.70400766,  0.41653521,  0.7194699 ,\n",
              "       -0.18933418, -0.64373623, -0.34080153, -0.49226888,  0.26506786,\n",
              "        1.93120868,  0.26506786,  0.26506786, -1.24960562,  0.87093725])"
            ]
          },
          "metadata": {},
          "execution_count": 17
        }
      ]
    },
    {
      "cell_type": "markdown",
      "metadata": {
        "id": "y6qF-FO7riun"
      },
      "source": [
        "### (4)隨機初始化迴歸係b ， w1 ， w2"
      ]
    },
    {
      "cell_type": "code",
      "metadata": {
        "id": "0cnnO1z_riun",
        "colab": {
          "base_uri": "https://localhost:8080/"
        },
        "outputId": "b9b52621-e9b8-475b-b555-941985406298"
      },
      "source": [
        "b=np.random.rand()\n",
        "w1=np.random.rand()\n",
        "w2=np.random.rand()\n",
        "print(b,w1,w2)"
      ],
      "execution_count": null,
      "outputs": [
        {
          "output_type": "stream",
          "name": "stdout",
          "text": [
            "0.09394512520682186 0.6051346312662101 0.03572435985720135\n"
          ]
        }
      ]
    },
    {
      "cell_type": "markdown",
      "metadata": {
        "id": "k4Y_LjScriur"
      },
      "source": [
        "### (5)定義迴歸模型的二次方多項式函數"
      ]
    },
    {
      "cell_type": "code",
      "metadata": {
        "id": "Ct9qM9w9aAfi"
      },
      "source": [
        "#b+w1*x+w2*x**2"
      ],
      "execution_count": null,
      "outputs": []
    },
    {
      "cell_type": "code",
      "metadata": {
        "id": "g7rfQ1Cjriuu"
      },
      "source": [
        "def F(x):\n",
        "    return "
      ],
      "execution_count": null,
      "outputs": []
    },
    {
      "cell_type": "markdown",
      "metadata": {
        "id": "11k_6SAGriux"
      },
      "source": [
        "### (6)定義損失函數LOSS Funcation"
      ]
    },
    {
      "cell_type": "code",
      "metadata": {
        "id": "nD3NkorPriux"
      },
      "source": [
        "def Loss(x,y):\n",
        "    return 0.5*np.sum((y-F(x))**2)"
      ],
      "execution_count": null,
      "outputs": []
    },
    {
      "cell_type": "markdown",
      "metadata": {
        "id": "rhrSXE0driu2"
      },
      "source": [
        "### (7)設定學習率和權重更新次數"
      ]
    },
    {
      "cell_type": "code",
      "metadata": {
        "id": "sJ6IaK9hriu3"
      },
      "source": [
        "ETA = 0.0001\n",
        "Step_Loss=[]\n",
        "Step_b=[]\n",
        "Step_w1=[]\n",
        "Step_w2=[]"
      ],
      "execution_count": null,
      "outputs": []
    },
    {
      "cell_type": "markdown",
      "metadata": {
        "id": "INTuRI0oriu7"
      },
      "source": [
        "### (8)開始訓練模型"
      ]
    },
    {
      "cell_type": "code",
      "metadata": {
        "id": "3Lb5p96ariu8",
        "colab": {
          "base_uri": "https://localhost:8080/"
        },
        "outputId": "c19c1e51-eca0-4a24-f7e1-4973d14773a8"
      },
      "source": [
        "for epoch in range(100000):\n",
        "    #利用梯度下降更新迴歸係數\n",
        "    b=b-ETA*np.sum(F(train_x)-train_y)\n",
        "    w1=w1-ETA*np.sum((F(train_x)-train_y)*train_x)\n",
        "    w2=w2-ETA*np.sum((F(train_x)-train_y)*train_x**2)\n",
        "\n",
        "    if epoch%100==99:\n",
        "        current_loss = Loss(train_x, train_y)\n",
        "        Step_Loss.append(current_loss)\n",
        "        print(\"訓練次數:\",epoch+1,\"\\nb:\",b,\"\\nw1:\",w1,\n",
        "              \"\\nw2:\",w2,\"\\n損失函數:\",current_loss)\n",
        "        display.clear_output(wait=True)"
      ],
      "execution_count": null,
      "outputs": [
        {
          "output_type": "stream",
          "name": "stdout",
          "text": [
            "訓練次數: 100000 \n",
            "b: 410.9815669694876 \n",
            "w1: 96.73300412789543 \n",
            "w2: 23.521190950692123 \n",
            "損失函數: 2577.6163319286406\n"
          ]
        }
      ]
    },
    {
      "cell_type": "markdown",
      "metadata": {
        "id": "YYJFkuTVriu_"
      },
      "source": [
        "### (9)畫圖檢查模型訓練結果"
      ]
    },
    {
      "cell_type": "code",
      "metadata": {
        "id": "NYdlImZFrivA",
        "colab": {
          "base_uri": "https://localhost:8080/",
          "height": 416
        },
        "outputId": "836c4f05-32d9-430e-8cf0-d70c25995124"
      },
      "source": [
        "plt.figure(figsize=(12,6))\n",
        "plt.title(\"訓練模型和數據關係圖\",\n",
        "          fontproperties=twfont1,fontsize=20) \n",
        "plt.xlabel(\"x資料\",fontproperties=twfont1,fontsize=20) \n",
        "plt.ylabel(\"y資料\",fontproperties=twfont1,fontsize=20)\n",
        "x = np.linspace(-1.7,2, 2000)\n",
        "plt.plot(x, F(x),label=\"模型函數\")\n",
        "plt.plot(train_x, train_y, 'go',label=\"訓練資料集\")\n",
        "plt.plot(valid_x, valid_y, 'ro',label=\"驗證資料集\")\n",
        "plt.legend(prop=twfont1)\n",
        "plt.show()"
      ],
      "execution_count": null,
      "outputs": [
        {
          "output_type": "display_data",
          "data": {
            "image/png": "[encoded data removed]",
            "text/plain": [
              "<Figure size 864x432 with 1 Axes>"
            ]
          },
          "metadata": {
            "needs_background": "light"
          }
        }
      ]
    },
    {
      "cell_type": "markdown",
      "metadata": {
        "id": "5CXrLkZWrivF"
      },
      "source": [
        "### (10)觀察Loss值隨訓練次數的變化"
      ]
    },
    {
      "cell_type": "code",
      "metadata": {
        "id": "EFnvR8gwrivG",
        "colab": {
          "base_uri": "https://localhost:8080/",
          "height": 362
        },
        "outputId": "ff8e4459-c831-4e73-840e-c610cda56e63"
      },
      "source": [
        "plt.figure(figsize=(8,5))\n",
        "plt.title(\"Loss隨訓練次數的變化\",\n",
        "          fontproperties=twfont1,fontsize=20) \n",
        "plt.xlabel(\"訓練次數(x100)\",fontproperties=twfont1,fontsize=20) \n",
        "plt.ylabel(\"Loss值\",fontproperties=twfont1,fontsize=20)\n",
        "plt.plot(Step_Loss,\":o\")\n",
        "plt.show()"
      ],
      "execution_count": null,
      "outputs": [
        {
          "output_type": "display_data",
          "data": {
            "image/png": "[encoded data removed]",
            "text/plain": [
              "<Figure size 576x360 with 1 Axes>"
            ]
          },
          "metadata": {
            "needs_background": "light"
          }
        }
      ]
    },
    {
      "cell_type": "markdown",
      "metadata": {
        "id": "Q0db305-rivN"
      },
      "source": [
        "### (11)比較訓練好的迴歸模型函數在訓練資料集和驗證資料集的每筆平均Loss值"
      ]
    },
    {
      "cell_type": "code",
      "metadata": {
        "id": "4MO0TZ_DrivO",
        "colab": {
          "base_uri": "https://localhost:8080/"
        },
        "outputId": "cb85fed3-7a68-4399-9645-9015551d91b0"
      },
      "source": [
        "print(\"訓練資料集對回歸模型的每筆平均Loss值\",\n",
        "      Loss(train_x, train_y)/np.size(train_x))\n",
        "print(\"驗證資料集對回歸模型的每筆平均Loss值\",\n",
        "      Loss(valid_x, valid_y)/np.size(valid_x))"
      ],
      "execution_count": null,
      "outputs": [
        {
          "output_type": "stream",
          "name": "stdout",
          "text": [
            "訓練資料集對回歸模型的每筆平均Loss值 214.8013609940534\n",
            "驗證資料集對回歸模型的每筆平均Loss值 142.97838509286572\n"
          ]
        }
      ]
    }
  ]
}