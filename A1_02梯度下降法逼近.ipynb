{
  "nbformat": 4,
  "nbformat_minor": 0,
  "metadata": {
    "kernelspec": {
      "display_name": "Python 3",
      "language": "python",
      "name": "python3"
    },
    "language_info": {
      "codemirror_mode": {
        "name": "ipython",
        "version": 3
      },
      "file_extension": ".py",
      "mimetype": "text/x-python",
      "name": "python",
      "nbconvert_exporter": "python",
      "pygments_lexer": "ipython3",
      "version": "3.6.9"
    },
    "colab": {
      "name": "A01-02梯度下降法逼近.ipynb",
      "provenance": [],
      "collapsed_sections": [],
      "include_colab_link": true
    }
  },
  "cells": [
    {
      "cell_type": "markdown",
      "metadata": {
        "id": "view-in-github",
        "colab_type": "text"
      },
      "source": [
        "<a href=\"https://colab.research.google.com/github/bin010203/Machine-Learning/blob/main/A01_02%E6%A2%AF%E5%BA%A6%E4%B8%8B%E9%99%8D%E6%B3%95%E9%80%BC%E8%BF%91.ipynb\" target=\"_parent\"><img src=\"https://colab.research.google.com/assets/colab-badge.svg\" alt=\"Open In Colab\"/></a>"
      ]
    },
    {
      "cell_type": "markdown",
      "metadata": {
        "id": "lEOn8uiKi_1U"
      },
      "source": [
        "# 實作02：利用梯度下降法逼近多項式函數最小值"
      ]
    },
    {
      "cell_type": "markdown",
      "metadata": {
        "id": "bV3mbcT7jBpE"
      },
      "source": [
        "### (0)掛載雲端硬碟"
      ]
    },
    {
      "cell_type": "code",
      "metadata": {
        "id": "UUuh_3LCjOWX",
        "colab": {
          "base_uri": "https://localhost:8080/"
        },
        "outputId": "f220a562-8f36-41ba-9721-70cc7b266866"
      },
      "source": [
        "from google.colab import drive\n",
        "drive.mount('/content/drive')"
      ],
      "execution_count": null,
      "outputs": [
        {
          "output_type": "stream",
          "name": "stdout",
          "text": [
            "Mounted at /content/drive\n"
          ]
        }
      ]
    },
    {
      "cell_type": "markdown",
      "metadata": {
        "id": "XK15rXCJi_1W"
      },
      "source": [
        "### (1)import必要的套件"
      ]
    },
    {
      "cell_type": "code",
      "metadata": {
        "id": "q5UQvol4i_1Y"
      },
      "source": [
        "import numpy as np\n",
        "import matplotlib.pyplot as plt\n",
        "import matplotlib.font_manager as plt_font\n",
        "twfont1 = plt_font.FontProperties(fname=\"/content/drive/MyDrive/Colab Notebooks/kaiu.ttf\")\n",
        "#動態顯示套件\n",
        "from IPython import display"
      ],
      "execution_count": null,
      "outputs": []
    },
    {
      "cell_type": "markdown",
      "metadata": {
        "id": "Z0Lw6MRii_1d"
      },
      "source": [
        "### (2)定義多項式函數f(x)=x<sup>4</sup>-38x<sup>2</sup>-48x+24"
      ]
    },
    {
      "cell_type": "code",
      "metadata": {
        "id": "7547fM-Vi_1e"
      },
      "source": [
        "def F(x):\n",
        "    return x**4-38*x**2-48*x+24"
      ],
      "execution_count": null,
      "outputs": []
    },
    {
      "cell_type": "markdown",
      "metadata": {
        "id": "S82FyEeVi_1i"
      },
      "source": [
        "### (3)定義原函數的導函數f'(x)=4x<sup>3</sup>-76x-48"
      ]
    },
    {
      "cell_type": "code",
      "metadata": {
        "id": "_DANlOdAi_1k"
      },
      "source": [
        "def F1(x):\n",
        "    return 4*x**3-76*x-48"
      ],
      "execution_count": null,
      "outputs": []
    },
    {
      "cell_type": "markdown",
      "metadata": {
        "id": "SML5hrBei_1p"
      },
      "source": [
        "### (4)利用梯度下降找函數的極小值"
      ]
    },
    {
      "cell_type": "code",
      "metadata": {
        "id": "hi0s01WVi_1u"
      },
      "source": [
        "#設定step_x、step_y用來儲存梯度下降每一步的座標\n",
        "step_x=[]\n",
        "step_y=[]\n",
        "#設定學習率，可以調大或調小，觀察梯度下降情況\n",
        "ETA=0.008\n",
        "#設定梯度下降的起點，可以改變不同位置，觀察梯度下降情況\n",
        "x_point=6\n"
      ],
      "execution_count": null,
      "outputs": []
    },
    {
      "cell_type": "code",
      "metadata": {
        "id": "Aosq9RpNui2s"
      },
      "source": [
        "#開始梯度下降 ,固定跑100次,可自行加入斜率<0.001 的條件跳出\n",
        "#可以用while廻圈改寫程式,作業。\n",
        "#可以跳過執行,改用while廻圈執行。\n",
        "for i in range(100):\n",
        "  step_x.append(x_point)\n",
        "  step_y.append(F(x_point))\n",
        "  #利用梯度下降更新下一個x_point\n",
        "  x_point=x_point-ETA*F1(x_point)"
      ],
      "execution_count": null,
      "outputs": []
    },
    {
      "cell_type": "markdown",
      "metadata": {
        "id": "p6Eft2rwOui1"
      },
      "source": [
        "###上面的 for 迴圈 或 下面的 while 迴圈 可只選一種執行"
      ]
    },
    {
      "cell_type": "code",
      "metadata": {
        "id": "zVV8KMQ5tGWA"
      },
      "source": [
        "#可以選for廻圈 或 while廻圈, 其中一種執行。\n",
        "while abs(F1(x_point))>=0.001:\n",
        "  step_x.append(x_point)\n",
        "  step_y.append(F(x_point))\n",
        "  #利用梯度下降更新下一個x_point\n",
        "  x_point=x_point-ETA*F1(x_point)"
      ],
      "execution_count": null,
      "outputs": []
    },
    {
      "cell_type": "code",
      "metadata": {
        "colab": {
          "base_uri": "https://localhost:8080/"
        },
        "id": "jVSgRO_-vjEZ",
        "outputId": "fca8d326-a02d-4ef6-f953-59bf713b6594"
      },
      "source": [
        "step_x"
      ],
      "execution_count": null,
      "outputs": [
        {
          "output_type": "execute_result",
          "data": {
            "text/plain": [
              "[6,\n",
              " 3.12,\n",
              " 4.429077504,\n",
              " 4.72566841415236,\n",
              " 4.605807521972987,\n",
              " 4.663574427248865,\n",
              " 4.637340089939159,\n",
              " 4.649622318448251,\n",
              " 4.643948600648377,\n",
              " 4.64658626273649,\n",
              " 4.645363608847435,\n",
              " 4.6459311256455145,\n",
              " 4.645667868342005,\n",
              " 4.6457900227544275,\n",
              " 4.645733349391428,\n",
              " 4.645759644571321]"
            ]
          },
          "metadata": {},
          "execution_count": 50
        }
      ]
    },
    {
      "cell_type": "markdown",
      "metadata": {
        "id": "pxNxJ6_4i_1y"
      },
      "source": [
        "### (5)用動畫一步一步展示梯度下降的更新情況"
      ]
    },
    {
      "cell_type": "code",
      "metadata": {
        "id": "Guigxe7Si_1y",
        "colab": {
          "base_uri": "https://localhost:8080/",
          "height": 395
        },
        "outputId": "39c4e4e0-e53b-4772-8ee2-26c2c733e04c"
      },
      "source": [
        "for i in range(len(step_x)):\n",
        "  plt.figure(figsize=(12,6))\n",
        "  plt.title(\"動畫顯示梯度下降的移動路徑\",fontproperties=twfont1,fontsize=20) \n",
        "  x = np.linspace(-7,7, 10000)\n",
        "  plt.plot(x, F(x))\n",
        "  #畫出梯度下降的修正路徑點\n",
        "  plt.scatter(step_x[:i],step_y[:i],s=20,color='r')\n",
        "  #暫停0.3秒\n",
        "  plt.pause(0.3)\n",
        "  #清除目前的顯示\n",
        "  display.clear_output(wait=True)"
      ],
      "execution_count": null,
      "outputs": [
        {
          "output_type": "display_data",
          "data": {
            "image/png": "[encoded data removed]",
            "text/plain": [
              "<Figure size 864x432 with 1 Axes>"
            ]
          },
          "metadata": {
            "needs_background": "light"
          }
        }
      ]
    },
    {
      "cell_type": "markdown",
      "metadata": {
        "id": "LehbAEOFi_12"
      },
      "source": [
        "### 進行下列實驗操作：\n",
        "#### (1)逐漸增加學習率ETA的值，觀察梯度下降法尋找最小值會有什麼變化？\n",
        "#### (2)逐漸減少學習率ETA的值，觀察梯度下降法尋找最小值會有什麼變化？\n",
        "#### (3)修改梯度下降x座標的起點x_point=-6，觀察梯度下降法尋找最小值會有什麼變化？"
      ]
    }
  ]
}
