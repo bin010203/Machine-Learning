{
  "nbformat": 4,
  "nbformat_minor": 0,
  "metadata": {
    "kernelspec": {
      "display_name": "Python 3",
      "language": "python",
      "name": "python3"
    },
    "language_info": {
      "codemirror_mode": {
        "name": "ipython",
        "version": 3
      },
      "file_extension": ".py",
      "mimetype": "text/x-python",
      "name": "python",
      "nbconvert_exporter": "python",
      "pygments_lexer": "ipython3",
      "version": "3.6.9"
    },
    "colab": {
      "name": "A1-02梯度下降法逼近.ipynb",
      "provenance": [],
      "collapsed_sections": [],
      "include_colab_link": true
    }
  },
  "cells": [
    {
      "cell_type": "markdown",
      "metadata": {
        "id": "view-in-github",
        "colab_type": "text"
      },
      "source": [
        "<a href=\"https://colab.research.google.com/github/bin010203/Machine-Learning/blob/main/A1_02%E6%A2%AF%E5%BA%A6%E4%B8%8B%E9%99%8D%E6%B3%95%E9%80%BC%E8%BF%91.ipynb\" target=\"_parent\"><img src=\"https://colab.research.google.com/assets/colab-badge.svg\" alt=\"Open In Colab\"/></a>"
      ]
    },
    {
      "cell_type": "markdown",
      "metadata": {
        "id": "lEOn8uiKi_1U"
      },
      "source": [
        "# 實作02：利用梯度下降法逼近多項式函數最小值"
      ]
    },
    {
      "cell_type": "markdown",
      "metadata": {
        "id": "bV3mbcT7jBpE"
      },
      "source": [
        "### (0)掛載雲端硬碟"
      ]
    },
    {
      "cell_type": "code",
      "metadata": {
        "id": "UUuh_3LCjOWX",
        "colab": {
          "base_uri": "https://localhost:8080/"
        },
        "outputId": "b6f6bfa4-dcdc-487d-e58e-127dbbb039fa"
      },
      "source": [
        "from google.colab import drive\n",
        "drive.mount('/content/drive')"
      ],
      "execution_count": null,
      "outputs": [
        {
          "output_type": "stream",
          "name": "stdout",
          "text": [
            "Mounted at /content/drive\n"
          ]
        }
      ]
    },
    {
      "cell_type": "markdown",
      "metadata": {
        "id": "XK15rXCJi_1W"
      },
      "source": [
        "### (1)import必要的套件"
      ]
    },
    {
      "cell_type": "code",
      "metadata": {
        "id": "q5UQvol4i_1Y"
      },
      "source": [
        "import numpy as np\n",
        "import matplotlib.pyplot as plt\n",
        "import matplotlib.font_manager as plt_font\n",
        "twfont1 = plt_font.FontProperties(fname=\"/content/drive/MyDrive/Colab Notebooks/kaiu.ttf\")\n",
        "#動態顯示套件\n",
        "from IPython import display"
      ],
      "execution_count": null,
      "outputs": []
    },
    {
      "cell_type": "code",
      "metadata": {
        "id": "BmcBhAp4hmk5"
      },
      "source": [
        "# x**4-38*x**2-48*x+24"
      ],
      "execution_count": null,
      "outputs": []
    },
    {
      "cell_type": "markdown",
      "metadata": {
        "id": "VD4nyZyvokW-"
      },
      "source": [
        "### (2)定義多項式函數f(x)=x<sup>4</sup>-38x<sup>2</sup>-48x+24"
      ]
    },
    {
      "cell_type": "code",
      "metadata": {
        "id": "VlF6K611okW_"
      },
      "source": [
        "def F(x):\n",
        "    return    #"
      ],
      "execution_count": null,
      "outputs": []
    },
    {
      "cell_type": "code",
      "metadata": {
        "id": "SF2ICLH5huSd"
      },
      "source": [
        "# 4*x**3-76*x-48"
      ],
      "execution_count": null,
      "outputs": []
    },
    {
      "cell_type": "markdown",
      "metadata": {
        "id": "rYZbryJEokW_"
      },
      "source": [
        "### (3)定義原函數的導函數f'(x)=4x<sup>3</sup>-76x-48"
      ]
    },
    {
      "cell_type": "code",
      "metadata": {
        "id": "E5l6JOAVokW_"
      },
      "source": [
        "def F1(x):\n",
        "    return     #"
      ],
      "execution_count": null,
      "outputs": []
    },
    {
      "cell_type": "code",
      "metadata": {
        "id": "mz2SSfceh50A"
      },
      "source": [
        "# 0.001"
      ],
      "execution_count": null,
      "outputs": []
    },
    {
      "cell_type": "markdown",
      "metadata": {
        "id": "SML5hrBei_1p"
      },
      "source": [
        "### (4)利用梯度下降找函數的極小值"
      ]
    },
    {
      "cell_type": "code",
      "metadata": {
        "id": "hi0s01WVi_1u"
      },
      "source": [
        "#設定step_x、step_y用來儲存梯度下降每一步的座標\n",
        "step_x=[]  #list 列表資料\n",
        "step_y=[]  #list 列表資料\n",
        "#設定學習率，可以調大或調小，觀察梯度下降情況\n",
        "#學習率若設太大,0.01會震盪,若收斂有解但浪費時間,(若發散無解)\n",
        "#學習率若設太小,0.001,接近谷底後,原地踏步。\n",
        "ETA=       #     \n",
        "#設定梯度下降的起點，可以改變不同位置，觀察梯度下降情況\n",
        "x_point=6\n"
      ],
      "execution_count": null,
      "outputs": []
    },
    {
      "cell_type": "code",
      "metadata": {
        "colab": {
          "base_uri": "https://localhost:8080/",
          "height": 133
        },
        "id": "i6lfD72UioGP",
        "outputId": "c36df2fe-3691-4a62-a32a-c69c8b07d24e"
      },
      "source": [
        "I stop run (執行 Run All 會在這停止,錯誤指令)"
      ],
      "execution_count": null,
      "outputs": [
        {
          "output_type": "error",
          "ename": "SyntaxError",
          "evalue": "ignored",
          "traceback": [
            "\u001b[0;36m  File \u001b[0;32m\"<ipython-input-124-f55f22986969>\"\u001b[0;36m, line \u001b[0;32m1\u001b[0m\n\u001b[0;31m    I stop run\u001b[0m\n\u001b[0m         ^\u001b[0m\n\u001b[0;31mSyntaxError\u001b[0m\u001b[0;31m:\u001b[0m invalid syntax\n"
          ]
        }
      ]
    },
    {
      "cell_type": "code",
      "metadata": {
        "id": "Aosq9RpNui2s"
      },
      "source": [
        "#開始梯度下降 ,固定跑100次,可自行加入斜率<0.001 的條件跳出\n",
        "#可以用while廻圈改寫程式,作業。\n",
        "#可以跳過執行,改用while廻圈執行。\n",
        "for i in range(100):\n",
        "  step_x.append(x_point)\n",
        "  step_y.append(F(x_point))\n",
        "  #利用梯度下降更新下一個x_point\n",
        "  x_point=x_point-ETA*F1(x_point)"
      ],
      "execution_count": null,
      "outputs": []
    },
    {
      "cell_type": "markdown",
      "metadata": {
        "id": "p6Eft2rwOui1"
      },
      "source": [
        "###上面的 for 迴圈 或 下面的 while 迴圈 可只選一種執行"
      ]
    },
    {
      "cell_type": "code",
      "metadata": {
        "id": "zVV8KMQ5tGWA"
      },
      "source": [
        "#可以選for廻圈 或 while廻圈, 其中一種執行。\n",
        "while abs(F1(x_point))>=0.001:\n",
        "  step_x.append(x_point)\n",
        "  step_y.append(F(x_point))\n",
        "  #利用梯度下降更新下一個x_point\n",
        "  x_point=x_point-ETA*F1(x_point)"
      ],
      "execution_count": null,
      "outputs": []
    },
    {
      "cell_type": "code",
      "metadata": {
        "colab": {
          "base_uri": "https://localhost:8080/"
        },
        "id": "jVSgRO_-vjEZ",
        "outputId": "9462cc8d-8f10-490c-ba3d-9cbf1fcc474f"
      },
      "source": [
        "step_x"
      ],
      "execution_count": null,
      "outputs": [
        {
          "output_type": "execute_result",
          "data": {
            "text/plain": [
              "[6,\n",
              " 3.12,\n",
              " 4.429077504,\n",
              " 4.72566841415236,\n",
              " 4.605807521972987,\n",
              " 4.663574427248865,\n",
              " 4.637340089939159,\n",
              " 4.649622318448251,\n",
              " 4.643948600648377,\n",
              " 4.64658626273649,\n",
              " 4.645363608847435,\n",
              " 4.6459311256455145,\n",
              " 4.645667868342005,\n",
              " 4.6457900227544275,\n",
              " 4.645733349391428,\n",
              " 4.645759644571321]"
            ]
          },
          "metadata": {},
          "execution_count": 126
        }
      ]
    },
    {
      "cell_type": "markdown",
      "metadata": {
        "id": "pxNxJ6_4i_1y"
      },
      "source": [
        "### (5)用動畫一步一步展示梯度下降的更新情況"
      ]
    },
    {
      "cell_type": "code",
      "metadata": {
        "id": "Guigxe7Si_1y",
        "colab": {
          "base_uri": "https://localhost:8080/",
          "height": 395
        },
        "outputId": "5854ce92-feb3-41af-ae47-4cef2a92e0d2"
      },
      "source": [
        "for i in range(len(step_x)):\n",
        "  plt.figure(figsize=(12,6))\n",
        "  plt.title(\"動畫顯示梯度下降的移動路徑\",\n",
        "            fontproperties=twfont1,fontsize=20) \n",
        "  x = np.linspace(-7,7, 10000)\n",
        "  plt.plot(x, F(x))\n",
        "  #畫出梯度下降的修正路徑點\n",
        "  plt.scatter(step_x[:i],step_y[:i],s=20,color='r')\n",
        "  #暫停1秒\n",
        "  plt.pause(1)\n",
        "  #清除目前的顯示\n",
        "  display.clear_output(wait=True)"
      ],
      "execution_count": null,
      "outputs": [
        {
          "output_type": "display_data",
          "data": {
            "image/png": "[encoded data removed]",
            "text/plain": [
              "<Figure size 864x432 with 1 Axes>"
            ]
          },
          "metadata": {
            "needs_background": "light"
          }
        }
      ]
    },
    {
      "cell_type": "code",
      "metadata": {
        "colab": {
          "base_uri": "https://localhost:8080/",
          "height": 557
        },
        "id": "Of9vweNyj4TO",
        "outputId": "83768091-0e96-4282-e8fe-8927b240e755"
      },
      "source": [
        "for i in range(len(step_x)):\n",
        "  plt.figure(figsize=(22,10))\n",
        "  plt.title(\"動畫顯示梯度下降的移動路徑\",\n",
        "            fontproperties=twfont1,fontsize=20) \n",
        "  x = np.linspace(3,6.2, 100)\n",
        "  plt.plot(x, F(x))\n",
        "  #畫出梯度下降的修正路徑點\n",
        "  plt.scatter(step_x[:i],step_y[:i],s=20,color='r')\n",
        "  #暫停1秒\n",
        "  plt.pause(1)\n",
        "  #清除目前的顯示\n",
        "  display.clear_output(wait=True)"
      ],
      "execution_count": null,
      "outputs": [
        {
          "output_type": "display_data",
          "data": {
            "image/png": "[encoded data removed]",
            "text/plain": [
              "<Figure size 1584x720 with 1 Axes>"
            ]
          },
          "metadata": {
            "needs_background": "light"
          }
        }
      ]
    },
    {
      "cell_type": "markdown",
      "metadata": {
        "id": "LehbAEOFi_12"
      },
      "source": [
        "### 進行下列實驗操作：\n",
        "#### (1)逐漸增加學習率ETA的值，觀察梯度下降法尋找最小值會有什麼變化？\n",
        "#### (2)逐漸減少學習率ETA的值，觀察梯度下降法尋找最小值會有什麼變化？\n",
        "#### (3)修改梯度下降x座標的起點x_point=-6，觀察梯度下降法尋找最小值會有什麼變化？"
      ]
    },
    {
      "cell_type": "code",
      "metadata": {
        "id": "WYW0lhRAjpfO"
      },
      "source": [
        ""
      ],
      "execution_count": null,
      "outputs": []
    },
    {
      "cell_type": "code",
      "metadata": {
        "id": "IE98QA29EBYW"
      },
      "source": [
        "import sympy as sp\n",
        "from sympy import S\n",
        "from sympy.abc import x, y, z, t, a, b, c, d, R, r, h ,n \n",
        "from sympy.abc import alpha, beta, gamma, pi, eta"
      ],
      "execution_count": null,
      "outputs": []
    },
    {
      "cell_type": "code",
      "metadata": {
        "id": "VEwAD1bDXx6G"
      },
      "source": [
        "from  sympy  import  exp,  sin, cos, tan, sec"
      ],
      "execution_count": null,
      "outputs": []
    },
    {
      "cell_type": "code",
      "metadata": {
        "id": "11u9xOYyZUzP"
      },
      "source": [
        "from  sympy  import  sqrt, log, plot, diff, integrate, limit"
      ],
      "execution_count": null,
      "outputs": []
    },
    {
      "cell_type": "markdown",
      "metadata": {
        "id": "h2zOSkof310L"
      },
      "source": [
        "x= \\eta + \\alpha + \\beta + \\gamma + \\pi"
      ]
    },
    {
      "cell_type": "code",
      "metadata": {
        "colab": {
          "base_uri": "https://localhost:8080/"
        },
        "id": "zPRuy7MTnTTn",
        "outputId": "fece06e5-86e8-48c0-c673-4983e089f075"
      },
      "source": [
        "η = α = β = γ = 1\n",
        "η + α + β + γ \n"
      ],
      "execution_count": null,
      "outputs": [
        {
          "output_type": "execute_result",
          "data": {
            "text/plain": [
              "4"
            ]
          },
          "metadata": {},
          "execution_count": 131
        }
      ]
    },
    {
      "cell_type": "code",
      "metadata": {
        "colab": {
          "base_uri": "https://localhost:8080/"
        },
        "id": "sjU4Ax_-jq_K",
        "outputId": "c758b83b-053e-467d-d2e0-aaf9415595a1"
      },
      "source": [
        "η"
      ],
      "execution_count": null,
      "outputs": [
        {
          "output_type": "execute_result",
          "data": {
            "text/plain": [
              "1"
            ]
          },
          "metadata": {},
          "execution_count": 132
        }
      ]
    },
    {
      "cell_type": "code",
      "metadata": {
        "colab": {
          "base_uri": "https://localhost:8080/",
          "height": 51
        },
        "id": "wXWCqT6UuSlZ",
        "outputId": "8e20a3c6-00b8-41ec-d45b-f5ea32c65e14"
      },
      "source": [
        "S(1)/2 + S(1)/3"
      ],
      "execution_count": null,
      "outputs": [
        {
          "output_type": "execute_result",
          "data": {
            "text/latex": "$\\displaystyle \\frac{5}{6}$",
            "text/plain": [
              "5/6"
            ]
          },
          "metadata": {},
          "execution_count": 133
        }
      ]
    },
    {
      "cell_type": "code",
      "metadata": {
        "colab": {
          "base_uri": "https://localhost:8080/",
          "height": 37
        },
        "id": "rC8u4tvZ29X5",
        "outputId": "74c20ce3-8bad-412c-95cb-09c8653134db"
      },
      "source": [
        "(S(1)/2 + S(1)/3).n(5)"
      ],
      "execution_count": null,
      "outputs": [
        {
          "output_type": "execute_result",
          "data": {
            "text/latex": "$\\displaystyle 0.83333$",
            "text/plain": [
              "0.83333"
            ]
          },
          "metadata": {},
          "execution_count": 134
        }
      ]
    },
    {
      "cell_type": "code",
      "metadata": {
        "colab": {
          "base_uri": "https://localhost:8080/",
          "height": 38
        },
        "id": "Kdv0_vX_vJc3",
        "outputId": "12adcd83-4a34-4d25-924a-679c19cc4c1b"
      },
      "source": [
        "sp.sqrt(2) * sp.sqrt(3)"
      ],
      "execution_count": null,
      "outputs": [
        {
          "output_type": "execute_result",
          "data": {
            "text/latex": "$\\displaystyle \\sqrt{6}$",
            "text/plain": [
              "sqrt(6)"
            ]
          },
          "metadata": {},
          "execution_count": 135
        }
      ]
    },
    {
      "cell_type": "markdown",
      "metadata": {
        "id": "s-Bd1Cz8uT2K"
      },
      "source": [
        "本來就是交給 `sympy` 算的我們自然是不用擔心。"
      ]
    },
    {
      "cell_type": "markdown",
      "metadata": {
        "id": "7JA9EON8vMp3"
      },
      "source": [
        "如果我們要看到近似的數值, 可以用 `n` 這個 method。"
      ]
    },
    {
      "cell_type": "code",
      "metadata": {
        "colab": {
          "base_uri": "https://localhost:8080/",
          "height": 38
        },
        "id": "jj8TLcRRqZVg",
        "outputId": "b1901aff-bb1f-49a0-f54d-9de94078f9e3"
      },
      "source": [
        "sqrt(2).n(5) * sqrt(3)"
      ],
      "execution_count": null,
      "outputs": [
        {
          "output_type": "execute_result",
          "data": {
            "text/latex": "$\\displaystyle 1.4142 \\sqrt{3}$",
            "text/plain": [
              "1.4142*sqrt(3)"
            ]
          },
          "metadata": {},
          "execution_count": 136
        }
      ]
    },
    {
      "cell_type": "code",
      "metadata": {
        "colab": {
          "base_uri": "https://localhost:8080/",
          "height": 38
        },
        "id": "tPOKDIi221yk",
        "outputId": "32e499b7-9f3e-4d52-9b1b-945bc1e8499a"
      },
      "source": [
        "sqrt(2) * sqrt(3).n(5)"
      ],
      "execution_count": null,
      "outputs": [
        {
          "output_type": "execute_result",
          "data": {
            "text/latex": "$\\displaystyle 1.732 \\sqrt{2}$",
            "text/plain": [
              "1.732*sqrt(2)"
            ]
          },
          "metadata": {},
          "execution_count": 137
        }
      ]
    },
    {
      "cell_type": "code",
      "metadata": {
        "colab": {
          "base_uri": "https://localhost:8080/",
          "height": 37
        },
        "id": "slF1Op5V2trV",
        "outputId": "5808d572-907b-42d4-8e68-6b3a27d58768"
      },
      "source": [
        "sqrt(2).n(5) * sqrt(3).n(5)"
      ],
      "execution_count": null,
      "outputs": [
        {
          "output_type": "execute_result",
          "data": {
            "text/latex": "$\\displaystyle 2.4495$",
            "text/plain": [
              "2.4495"
            ]
          },
          "metadata": {},
          "execution_count": 138
        }
      ]
    },
    {
      "cell_type": "code",
      "metadata": {
        "id": "VYgwCYhWve2P",
        "colab": {
          "base_uri": "https://localhost:8080/",
          "height": 37
        },
        "outputId": "c8290a5b-cd30-4700-bc00-12d281b70ec3"
      },
      "source": [
        "𝝅 = sp.pi\n",
        "𝝅.n(7)"
      ],
      "execution_count": null,
      "outputs": [
        {
          "output_type": "execute_result",
          "data": {
            "text/latex": "$\\displaystyle 3.141593$",
            "text/plain": [
              "3.141593"
            ]
          },
          "metadata": {},
          "execution_count": 139
        }
      ]
    },
    {
      "cell_type": "code",
      "metadata": {
        "colab": {
          "base_uri": "https://localhost:8080/",
          "height": 37
        },
        "id": "TsR65Oo2sRs9",
        "outputId": "9dc2d4f1-32e3-40b6-d84d-0165a0038f7e"
      },
      "source": [
        "𝝅.n(5)"
      ],
      "execution_count": null,
      "outputs": [
        {
          "output_type": "execute_result",
          "data": {
            "text/latex": "$\\displaystyle 3.1416$",
            "text/plain": [
              "3.1416"
            ]
          },
          "metadata": {},
          "execution_count": 140
        }
      ]
    },
    {
      "cell_type": "code",
      "metadata": {
        "colab": {
          "base_uri": "https://localhost:8080/",
          "height": 39
        },
        "id": "eRdXMQ77Pejg",
        "outputId": "dcbfaab0-ca66-4947-a39e-40e577095233"
      },
      "source": [
        "pi =sp.pi\n",
        "pi"
      ],
      "execution_count": null,
      "outputs": [
        {
          "output_type": "execute_result",
          "data": {
            "text/latex": "$\\displaystyle \\pi$",
            "text/plain": [
              "pi"
            ]
          },
          "metadata": {},
          "execution_count": 141
        }
      ]
    },
    {
      "cell_type": "code",
      "metadata": {
        "colab": {
          "base_uri": "https://localhost:8080/",
          "height": 37
        },
        "id": "nZMi_9XcTwUi",
        "outputId": "374baa88-5899-4799-abf8-7da057db89be"
      },
      "source": [
        "π =pi\n",
        "π.evalf(3)"
      ],
      "execution_count": null,
      "outputs": [
        {
          "output_type": "execute_result",
          "data": {
            "text/latex": "$\\displaystyle 3.14$",
            "text/plain": [
              "3.14"
            ]
          },
          "metadata": {},
          "execution_count": 142
        }
      ]
    },
    {
      "cell_type": "code",
      "metadata": {
        "id": "WyU0dV1hpI1N"
      },
      "source": [
        ""
      ],
      "execution_count": null,
      "outputs": []
    },
    {
      "cell_type": "code",
      "metadata": {
        "id": "ayFCrkKGX4KK",
        "colab": {
          "base_uri": "https://localhost:8080/",
          "height": 39
        },
        "outputId": "59d1d672-c64e-495b-d241-f228d2c1d9d3"
      },
      "source": [
        "h=exp(x)+log(x)+sin(x)+x**2\n",
        "h"
      ],
      "execution_count": null,
      "outputs": [
        {
          "output_type": "execute_result",
          "data": {
            "text/latex": "$\\displaystyle x^{2} + e^{x} + \\log{\\left(x \\right)} + \\sin{\\left(x \\right)}$",
            "text/plain": [
              "x**2 + exp(x) + log(x) + sin(x)"
            ]
          },
          "metadata": {},
          "execution_count": 143
        }
      ]
    },
    {
      "cell_type": "code",
      "metadata": {
        "id": "pUmNW3UdQC_U",
        "colab": {
          "base_uri": "https://localhost:8080/",
          "height": 315
        },
        "outputId": "7517fb0e-0e1f-4404-a1ee-636ad33c9a9c"
      },
      "source": [
        "sp.plot(h, (x, -25, 25))"
      ],
      "execution_count": null,
      "outputs": [
        {
          "output_type": "display_data",
          "data": {
            "image/png": "[encoded data removed]",
            "text/plain": [
              "<Figure size 432x288 with 1 Axes>"
            ]
          },
          "metadata": {
            "needs_background": "light"
          }
        },
        {
          "output_type": "execute_result",
          "data": {
            "text/plain": [
              "<sympy.plotting.plot.Plot at 0x7fdb04ad9890>"
            ]
          },
          "metadata": {},
          "execution_count": 144
        }
      ]
    },
    {
      "cell_type": "code",
      "metadata": {
        "id": "pYZtENdz4YEL"
      },
      "source": [
        ""
      ],
      "execution_count": null,
      "outputs": []
    },
    {
      "cell_type": "markdown",
      "metadata": {
        "id": "sD7K-sE6GjZ4"
      },
      "source": [
        "## 6. 微分"
      ]
    },
    {
      "cell_type": "markdown",
      "metadata": {
        "id": "DhGrpKWRVpOu"
      },
      "source": [
        "### 標準導數求法\n",
        "\n",
        "到了看 `sympy` 微分功力的時刻了。\n",
        "### diff  (Differential equation)"
      ]
    },
    {
      "cell_type": "code",
      "metadata": {
        "colab": {
          "base_uri": "https://localhost:8080/",
          "height": 39
        },
        "id": "cne8tA3fXEHU",
        "outputId": "b7fd0154-2c9b-4192-a769-ed78e9537c33"
      },
      "source": [
        "#x  =  Symbol ( 'x' ) \n",
        "#y  =  Symbol ( 'y' ) \n",
        "diff ( sin ( x ),  x )"
      ],
      "execution_count": null,
      "outputs": [
        {
          "output_type": "execute_result",
          "data": {
            "text/latex": "$\\displaystyle \\cos{\\left(x \\right)}$",
            "text/plain": [
              "cos(x)"
            ]
          },
          "metadata": {},
          "execution_count": 145
        }
      ]
    },
    {
      "cell_type": "code",
      "metadata": {
        "id": "zDm93hjSKeiC"
      },
      "source": [
        "f = x**4 - 3*x**2 + 2*x - 5"
      ],
      "execution_count": null,
      "outputs": []
    },
    {
      "cell_type": "code",
      "metadata": {
        "id": "hSOGOpLWLbv3",
        "colab": {
          "base_uri": "https://localhost:8080/",
          "height": 39
        },
        "outputId": "697c96df-31ee-4b3f-ba19-08c2ce4e63f0"
      },
      "source": [
        "f"
      ],
      "execution_count": null,
      "outputs": [
        {
          "output_type": "execute_result",
          "data": {
            "text/latex": "$\\displaystyle x^{4} - 3 x^{2} + 2 x - 5$",
            "text/plain": [
              "x**4 - 3*x**2 + 2*x - 5"
            ]
          },
          "metadata": {},
          "execution_count": 147
        }
      ]
    },
    {
      "cell_type": "code",
      "metadata": {
        "id": "esT18YSPLcHP",
        "colab": {
          "base_uri": "https://localhost:8080/",
          "height": 39
        },
        "outputId": "b6779e7b-d3f1-4f66-9d1a-b98660427e4e"
      },
      "source": [
        "diff(f, x)"
      ],
      "execution_count": null,
      "outputs": [
        {
          "output_type": "execute_result",
          "data": {
            "text/latex": "$\\displaystyle 4 x^{3} - 6 x + 2$",
            "text/plain": [
              "4*x**3 - 6*x + 2"
            ]
          },
          "metadata": {},
          "execution_count": 148
        }
      ]
    },
    {
      "cell_type": "markdown",
      "metadata": {
        "id": "UeERliErLeBr"
      },
      "source": [
        "### 高階導數\n",
        "\n",
        "還可以啦, 畢竟很簡單。二階導數可以怎麼做呢?"
      ]
    },
    {
      "cell_type": "code",
      "metadata": {
        "id": "yo2o22x2LljK",
        "colab": {
          "base_uri": "https://localhost:8080/",
          "height": 39
        },
        "outputId": "ca37cf7b-900c-46c8-9dbe-a1538575922d"
      },
      "source": [
        "sp.diff(f, x, x)"
      ],
      "execution_count": null,
      "outputs": [
        {
          "output_type": "execute_result",
          "data": {
            "text/latex": "$\\displaystyle 6 \\left(2 x^{2} - 1\\right)$",
            "text/plain": [
              "6*(2*x**2 - 1)"
            ]
          },
          "metadata": {},
          "execution_count": 149
        }
      ]
    },
    {
      "cell_type": "markdown",
      "metadata": {
        "id": "_sDLstviLrEY"
      },
      "source": [
        "另外也可以這樣寫。"
      ]
    },
    {
      "cell_type": "code",
      "metadata": {
        "id": "RD2JP5qCLwat",
        "colab": {
          "base_uri": "https://localhost:8080/",
          "height": 39
        },
        "outputId": "5a442a3b-8265-4232-fb86-c3ef3a42fcde"
      },
      "source": [
        "diff(f, x, 2)"
      ],
      "execution_count": null,
      "outputs": [
        {
          "output_type": "execute_result",
          "data": {
            "text/latex": "$\\displaystyle 6 \\left(2 x^{2} - 1\\right)$",
            "text/plain": [
              "6*(2*x**2 - 1)"
            ]
          },
          "metadata": {},
          "execution_count": 150
        }
      ]
    },
    {
      "cell_type": "markdown",
      "metadata": {
        "id": "ZSmzv1RhLxaH"
      },
      "source": [
        "### 指數、對數、三角函數的導數\n",
        "\n",
        "指數、對數函數也來試試。"
      ]
    },
    {
      "cell_type": "code",
      "metadata": {
        "id": "NjwnwX1pLzzX",
        "colab": {
          "base_uri": "https://localhost:8080/",
          "height": 39
        },
        "outputId": "316e34e9-3d66-42fe-ea36-7d73374307ac"
      },
      "source": [
        "sp.diff(sp.exp(x), x)"
      ],
      "execution_count": null,
      "outputs": [
        {
          "output_type": "execute_result",
          "data": {
            "text/latex": "$\\displaystyle e^{x}$",
            "text/plain": [
              "exp(x)"
            ]
          },
          "metadata": {},
          "execution_count": 151
        }
      ]
    },
    {
      "cell_type": "code",
      "metadata": {
        "id": "WuDxAsahL9yy",
        "colab": {
          "base_uri": "https://localhost:8080/",
          "height": 51
        },
        "outputId": "10664075-6307-41c9-ace8-dee5584d15b5"
      },
      "source": [
        "sp.diff(sp.log(x), x)"
      ],
      "execution_count": null,
      "outputs": [
        {
          "output_type": "execute_result",
          "data": {
            "text/latex": "$\\displaystyle \\frac{1}{x}$",
            "text/plain": [
              "1/x"
            ]
          },
          "metadata": {},
          "execution_count": 152
        }
      ]
    },
    {
      "cell_type": "markdown",
      "metadata": {
        "id": "vm0JUoZ5L_l0"
      },
      "source": [
        "事實上三角函數也是可以的!"
      ]
    },
    {
      "cell_type": "code",
      "metadata": {
        "id": "Ac4JGLxTMTgX",
        "colab": {
          "base_uri": "https://localhost:8080/",
          "height": 39
        },
        "outputId": "3f46c5c5-f5cf-4a02-817d-2d3992d725e9"
      },
      "source": [
        "sp.diff(sp.sin(x), x)"
      ],
      "execution_count": null,
      "outputs": [
        {
          "output_type": "execute_result",
          "data": {
            "text/latex": "$\\displaystyle \\cos{\\left(x \\right)}$",
            "text/plain": [
              "cos(x)"
            ]
          },
          "metadata": {},
          "execution_count": 153
        }
      ]
    },
    {
      "cell_type": "code",
      "metadata": {
        "id": "7H-m1X6UMVRI",
        "colab": {
          "base_uri": "https://localhost:8080/",
          "height": 39
        },
        "outputId": "ea3ad082-94d8-4c94-bb10-822124ce8768"
      },
      "source": [
        "sp.diff(sp.tan(x), x)"
      ],
      "execution_count": null,
      "outputs": [
        {
          "output_type": "execute_result",
          "data": {
            "text/latex": "$\\displaystyle \\tan^{2}{\\left(x \\right)} + 1$",
            "text/plain": [
              "tan(x)**2 + 1"
            ]
          },
          "metadata": {},
          "execution_count": 154
        }
      ]
    },
    {
      "cell_type": "markdown",
      "metadata": {
        "id": "pbDk8hrQMoNk"
      },
      "source": [
        "注意我們平常習慣看到的是 $\\sec^2(x)$。"
      ]
    },
    {
      "cell_type": "code",
      "metadata": {
        "id": "Qr12BhOsMW0j",
        "colab": {
          "base_uri": "https://localhost:8080/",
          "height": 39
        },
        "outputId": "80811579-665d-49c2-d769-d61724694770"
      },
      "source": [
        "sp.diff(sp.sec(x), x)"
      ],
      "execution_count": null,
      "outputs": [
        {
          "output_type": "execute_result",
          "data": {
            "text/latex": "$\\displaystyle \\tan{\\left(x \\right)} \\sec{\\left(x \\right)}$",
            "text/plain": [
              "tan(x)*sec(x)"
            ]
          },
          "metadata": {},
          "execution_count": 155
        }
      ]
    },
    {
      "cell_type": "markdown",
      "metadata": {
        "id": "N8tEev3EiKCf"
      },
      "source": [
        "## 7. 關於函數的極值"
      ]
    },
    {
      "cell_type": "markdown",
      "metadata": {
        "id": "EzVi_dcDWaJS"
      },
      "source": [
        "### `solveset` 找微分等於 0 的點\n",
        "\n",
        "###我們知道一個函數的極值是發生在臨界點, 也就是微分等於 0 或是微分不存在的那些點。\n",
        "####我們試試可愛的 `sympy` 可不可以幫我們算。\n",
        "\n",
        "$$f(x) = x^4-8x+1$$"
      ]
    },
    {
      "cell_type": "code",
      "metadata": {
        "id": "qAOaqgCEjIXw"
      },
      "source": [
        "f = x**4 - 8*x**2 + 1"
      ],
      "execution_count": null,
      "outputs": []
    },
    {
      "cell_type": "code",
      "metadata": {
        "id": "iHsZvZ7jjRDu",
        "colab": {
          "base_uri": "https://localhost:8080/",
          "height": 39
        },
        "outputId": "317fda12-fb6c-4ec3-c8d4-3b75aec402c2"
      },
      "source": [
        "f"
      ],
      "execution_count": null,
      "outputs": [
        {
          "output_type": "execute_result",
          "data": {
            "text/latex": "$\\displaystyle x^{4} - 8 x^{2} + 1$",
            "text/plain": [
              "x**4 - 8*x**2 + 1"
            ]
          },
          "metadata": {},
          "execution_count": 157
        }
      ]
    },
    {
      "cell_type": "code",
      "metadata": {
        "id": "bO1ArURnjSef",
        "colab": {
          "base_uri": "https://localhost:8080/",
          "height": 39
        },
        "outputId": "1e097579-357d-451e-839d-c2c6dbda1a1c"
      },
      "source": [
        "f1 = sp.diff(f, x)\n",
        "f1"
      ],
      "execution_count": null,
      "outputs": [
        {
          "output_type": "execute_result",
          "data": {
            "text/latex": "$\\displaystyle 4 x^{3} - 16 x$",
            "text/plain": [
              "4*x**3 - 16*x"
            ]
          },
          "metadata": {},
          "execution_count": 158
        }
      ]
    },
    {
      "cell_type": "code",
      "metadata": {
        "id": "Y6b5CneYrrPt",
        "colab": {
          "base_uri": "https://localhost:8080/",
          "height": 315
        },
        "outputId": "0e94cce7-44f5-4ffa-af0e-d563f86eef74"
      },
      "source": [
        "sp.plot(f1)"
      ],
      "execution_count": null,
      "outputs": [
        {
          "output_type": "display_data",
          "data": {
            "image/png": "[encoded data removed]",
            "text/plain": [
              "<Figure size 432x288 with 1 Axes>"
            ]
          },
          "metadata": {
            "needs_background": "light"
          }
        },
        {
          "output_type": "execute_result",
          "data": {
            "text/plain": [
              "<sympy.plotting.plot.Plot at 0x7fdb049462d0>"
            ]
          },
          "metadata": {},
          "execution_count": 159
        }
      ]
    },
    {
      "cell_type": "code",
      "metadata": {
        "id": "zT7mcm3ojaeI",
        "colab": {
          "base_uri": "https://localhost:8080/",
          "height": 37
        },
        "outputId": "c856157e-924a-4500-f44d-4914bd1e8546"
      },
      "source": [
        "sp.solveset(f1)"
      ],
      "execution_count": null,
      "outputs": [
        {
          "output_type": "execute_result",
          "data": {
            "text/latex": "$\\displaystyle \\left\\{-2, 0, 2\\right\\}$",
            "text/plain": [
              "FiniteSet(-2, 0, 2)"
            ]
          },
          "metadata": {},
          "execution_count": 160
        }
      ]
    },
    {
      "cell_type": "code",
      "metadata": {
        "id": "-TRyOxuzr8_v",
        "colab": {
          "base_uri": "https://localhost:8080/",
          "height": 315
        },
        "outputId": "1666416c-5a63-4804-d096-9d4c4ac93a24"
      },
      "source": [
        "sp.plot(f1,(x,-4,4))"
      ],
      "execution_count": null,
      "outputs": [
        {
          "output_type": "display_data",
          "data": {
            "image/png": "[encoded data removed]",
            "text/plain": [
              "<Figure size 432x288 with 1 Axes>"
            ]
          },
          "metadata": {
            "needs_background": "light"
          }
        },
        {
          "output_type": "execute_result",
          "data": {
            "text/plain": [
              "<sympy.plotting.plot.Plot at 0x7fdb0457c9d0>"
            ]
          },
          "metadata": {},
          "execution_count": 161
        }
      ]
    },
    {
      "cell_type": "code",
      "metadata": {
        "id": "qGONVmaVtnT7",
        "colab": {
          "base_uri": "https://localhost:8080/",
          "height": 313
        },
        "outputId": "e76d30a6-9695-471c-949a-c2ef683f9df2"
      },
      "source": [
        "sp.plot(f,(x,-5,5))"
      ],
      "execution_count": null,
      "outputs": [
        {
          "output_type": "display_data",
          "data": {
            "image/png": "[encoded data removed]",
            "text/plain": [
              "<Figure size 432x288 with 1 Axes>"
            ]
          },
          "metadata": {
            "needs_background": "light"
          }
        },
        {
          "output_type": "execute_result",
          "data": {
            "text/plain": [
              "<sympy.plotting.plot.Plot at 0x7fdb04a57110>"
            ]
          },
          "metadata": {},
          "execution_count": 162
        }
      ]
    },
    {
      "cell_type": "code",
      "metadata": {
        "id": "_kxyB4zEoYqS",
        "colab": {
          "base_uri": "https://localhost:8080/"
        },
        "outputId": "fc288057-b3e3-41c7-a149-5d8b1e56bd98"
      },
      "source": [
        "sp.plot"
      ],
      "execution_count": null,
      "outputs": [
        {
          "output_type": "execute_result",
          "data": {
            "text/plain": [
              "<function sympy.plotting.plot.plot>"
            ]
          },
          "metadata": {},
          "execution_count": 163
        }
      ]
    },
    {
      "cell_type": "markdown",
      "metadata": {
        "id": "EY7eDgyzWrBA"
      },
      "source": [
        "### 二階導數判別極大極小"
      ]
    },
    {
      "cell_type": "code",
      "metadata": {
        "id": "F1AfxSlyjeQs",
        "colab": {
          "base_uri": "https://localhost:8080/",
          "height": 39
        },
        "outputId": "bb8f7bcf-d81f-4fdd-bd54-ae88c3f94447"
      },
      "source": [
        "f2 = sp.diff(f, x, x)\n",
        "f2"
      ],
      "execution_count": null,
      "outputs": [
        {
          "output_type": "execute_result",
          "data": {
            "text/latex": "$\\displaystyle 4 \\left(3 x^{2} - 4\\right)$",
            "text/plain": [
              "4*(3*x**2 - 4)"
            ]
          },
          "metadata": {},
          "execution_count": 164
        }
      ]
    },
    {
      "cell_type": "code",
      "metadata": {
        "id": "BQWsW0T6j2M4",
        "colab": {
          "base_uri": "https://localhost:8080/",
          "height": 37
        },
        "outputId": "52ad5f2d-900c-44ec-9960-fa1923c4363f"
      },
      "source": [
        "f2.subs(x, -2)"
      ],
      "execution_count": null,
      "outputs": [
        {
          "output_type": "execute_result",
          "data": {
            "text/latex": "$\\displaystyle 32$",
            "text/plain": [
              "32"
            ]
          },
          "metadata": {},
          "execution_count": 165
        }
      ]
    },
    {
      "cell_type": "code",
      "metadata": {
        "id": "lAYLG3MtrQB_",
        "colab": {
          "base_uri": "https://localhost:8080/",
          "height": 37
        },
        "outputId": "3e426329-63b0-4ea0-f6d7-dd8d7fc7b04f"
      },
      "source": [
        "f2.subs(x,0)"
      ],
      "execution_count": null,
      "outputs": [
        {
          "output_type": "execute_result",
          "data": {
            "text/latex": "$\\displaystyle -16$",
            "text/plain": [
              "-16"
            ]
          },
          "metadata": {},
          "execution_count": 166
        }
      ]
    },
    {
      "cell_type": "code",
      "metadata": {
        "id": "_cseSVhGrRui",
        "colab": {
          "base_uri": "https://localhost:8080/",
          "height": 37
        },
        "outputId": "e4042865-cf97-43d1-c65a-790c6076e73e"
      },
      "source": [
        "f2.subs(x,2)"
      ],
      "execution_count": null,
      "outputs": [
        {
          "output_type": "execute_result",
          "data": {
            "text/latex": "$\\displaystyle 32$",
            "text/plain": [
              "32"
            ]
          },
          "metadata": {},
          "execution_count": 167
        }
      ]
    },
    {
      "cell_type": "code",
      "metadata": {
        "id": "-TKOQldUu0AX",
        "colab": {
          "base_uri": "https://localhost:8080/",
          "height": 315
        },
        "outputId": "c25ae89c-67c1-4a54-b2b2-656bc6729030"
      },
      "source": [
        "sp.plot(f2,(x,-4,4))"
      ],
      "execution_count": null,
      "outputs": [
        {
          "output_type": "display_data",
          "data": {
            "image/png": "[encoded data removed]",
            "text/plain": [
              "<Figure size 432x288 with 1 Axes>"
            ]
          },
          "metadata": {
            "needs_background": "light"
          }
        },
        {
          "output_type": "execute_result",
          "data": {
            "text/plain": [
              "<sympy.plotting.plot.Plot at 0x7fdb04c15d50>"
            ]
          },
          "metadata": {},
          "execution_count": 168
        }
      ]
    },
    {
      "cell_type": "markdown",
      "metadata": {
        "id": "QNzVFltARha-"
      },
      "source": [
        "## 8. 積分"
      ]
    },
    {
      "cell_type": "markdown",
      "metadata": {
        "id": "wlUkqjDmXcyb"
      },
      "source": [
        "### 定義分\n",
        "\n",
        "再來看定積分。"
      ]
    },
    {
      "cell_type": "code",
      "metadata": {
        "id": "rk80tQIY9bA1",
        "colab": {
          "base_uri": "https://localhost:8080/",
          "height": 39
        },
        "outputId": "95a977a7-2806-4f60-ee6d-5f0d095af914"
      },
      "source": [
        "f=1/x\n",
        "sp.integrate(1/x, x)"
      ],
      "execution_count": null,
      "outputs": [
        {
          "output_type": "execute_result",
          "data": {
            "text/latex": "$\\displaystyle \\log{\\left(x \\right)}$",
            "text/plain": [
              "log(x)"
            ]
          },
          "metadata": {},
          "execution_count": 169
        }
      ]
    },
    {
      "cell_type": "code",
      "metadata": {
        "id": "_Ffzkshw9vpB",
        "colab": {
          "base_uri": "https://localhost:8080/",
          "height": 37
        },
        "outputId": "8fc19793-e29f-4d1b-c9b8-d5098a3e025e"
      },
      "source": [
        "integrate(f,(x,1,10))"
      ],
      "execution_count": null,
      "outputs": [
        {
          "output_type": "execute_result",
          "data": {
            "text/latex": "$\\displaystyle \\log{\\left(10 \\right)}$",
            "text/plain": [
              "log(10)"
            ]
          },
          "metadata": {},
          "execution_count": 170
        }
      ]
    },
    {
      "cell_type": "code",
      "metadata": {
        "id": "Oi1HsyrVZ8lK",
        "colab": {
          "base_uri": "https://localhost:8080/",
          "height": 54
        },
        "outputId": "068cddff-d5f7-427c-cd00-906ba9c0adc1"
      },
      "source": [
        "integrate(x**2, x)"
      ],
      "execution_count": null,
      "outputs": [
        {
          "output_type": "execute_result",
          "data": {
            "text/latex": "$\\displaystyle \\frac{x^{3}}{3}$",
            "text/plain": [
              "x**3/3"
            ]
          },
          "metadata": {},
          "execution_count": 171
        }
      ]
    },
    {
      "cell_type": "code",
      "metadata": {
        "id": "MYIVKmGTW1i-"
      },
      "source": [
        "f = x/(sp.sqrt(x**2+4))"
      ],
      "execution_count": null,
      "outputs": []
    },
    {
      "cell_type": "code",
      "metadata": {
        "id": "FFK1OUSXW-Iq",
        "colab": {
          "base_uri": "https://localhost:8080/",
          "height": 51
        },
        "outputId": "ce38a28e-e21f-4c27-f728-f77b9edb2d57"
      },
      "source": [
        "f"
      ],
      "execution_count": null,
      "outputs": [
        {
          "output_type": "execute_result",
          "data": {
            "text/latex": "$\\displaystyle \\frac{x}{\\sqrt{x^{2} + 4}}$",
            "text/plain": [
              "x/sqrt(x**2 + 4)"
            ]
          },
          "metadata": {},
          "execution_count": 173
        }
      ]
    },
    {
      "cell_type": "code",
      "metadata": {
        "id": "mhBStc3MW-jI",
        "colab": {
          "base_uri": "https://localhost:8080/",
          "height": 38
        },
        "outputId": "30f87ab0-66cd-411f-e800-a6b37754bda7"
      },
      "source": [
        "sp.integrate(f, (x,0,2))"
      ],
      "execution_count": null,
      "outputs": [
        {
          "output_type": "execute_result",
          "data": {
            "text/latex": "$\\displaystyle -2 + 2 \\sqrt{2}$",
            "text/plain": [
              "-2 + 2*sqrt(2)"
            ]
          },
          "metadata": {},
          "execution_count": 174
        }
      ]
    }
  ]
}