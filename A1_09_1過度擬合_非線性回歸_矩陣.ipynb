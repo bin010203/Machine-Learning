{
  "nbformat": 4,
  "nbformat_minor": 0,
  "metadata": {
    "kernelspec": {
      "display_name": "Python 3",
      "language": "python",
      "name": "python3"
    },
    "language_info": {
      "codemirror_mode": {
        "name": "ipython",
        "version": 3
      },
      "file_extension": ".py",
      "mimetype": "text/x-python",
      "name": "python",
      "nbconvert_exporter": "python",
      "pygments_lexer": "ipython3",
      "version": "3.6.9"
    },
    "colab": {
      "name": "A1-09-1過度擬合_非線性回歸-矩陣.ipynb",
      "provenance": [],
      "collapsed_sections": [],
      "include_colab_link": true
    }
  },
  "cells": [
    {
      "cell_type": "markdown",
      "metadata": {
        "id": "view-in-github",
        "colab_type": "text"
      },
      "source": [
        "<a href=\"https://colab.research.google.com/github/bin010203/Machine-Learning/blob/main/A1_09_1%E9%81%8E%E5%BA%A6%E6%93%AC%E5%90%88_%E9%9D%9E%E7%B7%9A%E6%80%A7%E5%9B%9E%E6%AD%B8_%E7%9F%A9%E9%99%A3.ipynb\" target=\"_parent\"><img src=\"https://colab.research.google.com/assets/colab-badge.svg\" alt=\"Open In Colab\"/></a>"
      ]
    },
    {
      "cell_type": "markdown",
      "metadata": {
        "id": "e7TYvfSrsfCp"
      },
      "source": [
        "# 實作09：過度擬合_非線性回歸-利用矩陣運算\n",
        "##自變數x的4次方的非線性迴歸"
      ]
    },
    {
      "cell_type": "markdown",
      "metadata": {
        "id": "52kgrwu1shG3"
      },
      "source": [
        "### (0)掛載雲端硬碟"
      ]
    },
    {
      "cell_type": "code",
      "metadata": {
        "id": "LWaoHwrHsrYA",
        "colab": {
          "base_uri": "https://localhost:8080/"
        },
        "outputId": "498a241f-c04e-4250-c35e-a650d026cabc"
      },
      "source": [
        "from google.colab import drive\n",
        "drive.mount('/content/drive')"
      ],
      "execution_count": null,
      "outputs": [
        {
          "output_type": "stream",
          "name": "stdout",
          "text": [
            "Mounted at /content/drive\n"
          ]
        }
      ]
    },
    {
      "cell_type": "markdown",
      "metadata": {
        "id": "2NOEbnN8sfCr"
      },
      "source": [
        "### (1)import必要的套件"
      ]
    },
    {
      "cell_type": "code",
      "metadata": {
        "id": "p-nVGunlsfCs"
      },
      "source": [
        "import numpy as np\n",
        "from IPython import display\n",
        "import matplotlib.pyplot as plt\n",
        "import matplotlib.font_manager as plt_font\n",
        "#要記得改為自己的字形檔案路徑\n",
        "twfont1 = plt_font.FontProperties(\n",
        "    fname=\"/content/drive/MyDrive/Colab Notebooks/kaiu.ttf\")\n",
        "#若 fname 沒有設定路徑檔案,此格不會出錯,但是後面繪圖用中文字形會出錯"
      ],
      "execution_count": null,
      "outputs": []
    },
    {
      "cell_type": "markdown",
      "metadata": {
        "id": "tOoOWi93qPgf"
      },
      "source": [
        "### (2)定義特徵縮放的函數"
      ]
    },
    {
      "cell_type": "code",
      "metadata": {
        "id": "oDtjfYUIqQwU"
      },
      "source": [
        "#參數kind預設為0，做標準化；kind設為1，做歸一化\n",
        "def FeatureScaling(data,kind=0):\n",
        "  if kind==1:\n",
        "    return (data-data.min())/(data.max()-data.min())\n",
        "  else:\n",
        "    return (data-data.mean())/data.std()\n",
        "#若 return 沒有設定數學公式,此格不會出錯,但是後面訓練時會出錯"
      ],
      "execution_count": null,
      "outputs": []
    },
    {
      "cell_type": "markdown",
      "metadata": {
        "id": "OVOf8tNGsfCz"
      },
      "source": [
        "### (3)將原始資料分為訓練資料集和驗證資料集"
      ]
    },
    {
      "cell_type": "code",
      "metadata": {
        "id": "XYHCBxhisfCz"
      },
      "source": [
        "#由自己的雲端SalesVolume.csv檔案載入資料集\n",
        "data= np.loadtxt(\n",
        "    \"/content/drive/MyDrive/Colab Notebooks/SalesVolume.csv\",\n",
        "    delimiter=\",\")\n",
        "#第0列為廣告推播次數，並做特徵縮放，\n",
        "#第2參數設為0是標準化，設為1是歸一化\n",
        "data_x=FeatureScaling(data[0],0)\n",
        "data_y=data[1] #第1列為商品銷售數量\n",
        "#訓練資料集12筆\n",
        "train_x=data_x[:12]\n",
        "train_y=data_y[:12]\n",
        "#驗證資料集8筆\n",
        "valid_x=data_x[12:]\n",
        "valid_y=data_y[12:]"
      ],
      "execution_count": null,
      "outputs": []
    },
    {
      "cell_type": "markdown",
      "metadata": {
        "id": "euup-ZgasfC9"
      },
      "source": [
        "### (4)產生自變數資料和依變數資料的矩陣"
      ]
    },
    {
      "cell_type": "code",
      "source": [
        "# np.vstack([x,x**2,x**3,x**4]).T"
      ],
      "metadata": {
        "id": "hF9qLuQSVG_8"
      },
      "execution_count": null,
      "outputs": []
    },
    {
      "cell_type": "code",
      "metadata": {
        "id": "F_rlB_uxsfC9"
      },
      "source": [
        "#自變數x的3次方的非線性迴歸\n",
        "#垂直堆疊x,x**2,x**3,x**4，再轉置組成X矩陣\n",
        "def Xmatrix(x):\n",
        "  return \n",
        "#若 return 沒有設定數學公式,此格不會出錯,但是後面訓練時會出錯\n",
        "#將訓練集資料和驗證集資料的自變數x轉成[K列m+1行]矩陣\n",
        "mtx_train_x=Xmatrix(train_x)\n",
        "mtx_valid_x=Xmatrix(valid_x)\n",
        "#將訓練集資料和驗證集資料的依變數y轉成[K列1行]矩陣\n",
        "mtx_train_y=train_y.reshape((-1,1))\n",
        "mtx_valid_y=valid_y.reshape((-1,1))"
      ],
      "execution_count": null,
      "outputs": []
    },
    {
      "cell_type": "code",
      "source": [
        "mtx_train_x.shape"
      ],
      "metadata": {
        "colab": {
          "base_uri": "https://localhost:8080/"
        },
        "id": "hrBL-bH36IvK",
        "outputId": "3d2f88f2-83f2-49d3-b4d7-304167697cab"
      },
      "execution_count": null,
      "outputs": [
        {
          "output_type": "execute_result",
          "data": {
            "text/plain": [
              "(12, 4)"
            ]
          },
          "metadata": {},
          "execution_count": 7
        }
      ]
    },
    {
      "cell_type": "code",
      "source": [
        "mtx_train_x"
      ],
      "metadata": {
        "colab": {
          "base_uri": "https://localhost:8080/"
        },
        "id": "mabfMOjF48A1",
        "outputId": "c579c3ce-53ef-4c2e-ff3c-136a79a43257"
      },
      "execution_count": null,
      "outputs": [
        {
          "output_type": "execute_result",
          "data": {
            "text/plain": [
              "array([[ 1.47680664e+00,  2.18095784e+00,  3.22085302e+00,\n",
              "         4.75657711e+00],\n",
              "       [ 1.17387194e+00,  1.37797534e+00,  1.61756659e+00,\n",
              "         1.89881603e+00],\n",
              "       [ 1.13600511e-01,  1.29050760e-02,  1.46602322e-03,\n",
              "         1.66540986e-04],\n",
              "       [-1.55254031e+00,  2.41038142e+00, -3.74221431e+00,\n",
              "         5.80993857e+00],\n",
              "       [-7.95203574e-01,  6.32348724e-01, -5.02845965e-01,\n",
              "         3.99864909e-01],\n",
              "       [ 8.70937248e-01,  7.58531689e-01,  6.60633501e-01,\n",
              "         5.75370323e-01],\n",
              "       [-1.40107296e+00,  1.96300545e+00, -2.75031386e+00,\n",
              "         3.85339039e+00],\n",
              "       [-1.70400766e+00,  2.90364210e+00, -4.94782837e+00,\n",
              "         8.43113744e+00],\n",
              "       [ 4.16535205e-01,  1.73501577e-01,  7.22695151e-02,\n",
              "         3.01027973e-02],\n",
              "       [ 7.19469900e-01,  5.17636937e-01,  3.72424196e-01,\n",
              "         2.67947999e-01],\n",
              "       [-1.89334184e-01,  3.58474333e-02, -6.78714455e-03,\n",
              "         1.28503848e-03],\n",
              "       [-6.43736226e-01,  4.14396329e-01, -2.66761929e-01,\n",
              "         1.71724318e-01]])"
            ]
          },
          "metadata": {},
          "execution_count": 8
        }
      ]
    },
    {
      "cell_type": "code",
      "source": [
        "mtx_train_y.shape"
      ],
      "metadata": {
        "colab": {
          "base_uri": "https://localhost:8080/"
        },
        "id": "dPRIRs3q6bB4",
        "outputId": "90f7968d-4b41-4ab8-e660-21a8195a1a26"
      },
      "execution_count": null,
      "outputs": [
        {
          "output_type": "execute_result",
          "data": {
            "text/plain": [
              "(12, 1)"
            ]
          },
          "metadata": {},
          "execution_count": 9
        }
      ]
    },
    {
      "cell_type": "code",
      "source": [
        "mtx_train_y"
      ],
      "metadata": {
        "colab": {
          "base_uri": "https://localhost:8080/"
        },
        "id": "J0NSQIPk49SJ",
        "outputId": "b227bd77-c94f-488d-9090-967bb3b5daf5"
      },
      "execution_count": null,
      "outputs": [
        {
          "output_type": "execute_result",
          "data": {
            "text/plain": [
              "array([[591.],\n",
              "       [543.],\n",
              "       [410.],\n",
              "       [310.],\n",
              "       [319.],\n",
              "       [520.],\n",
              "       [338.],\n",
              "       [330.],\n",
              "       [501.],\n",
              "       [508.],\n",
              "       [399.],\n",
              "       [331.]])"
            ]
          },
          "metadata": {},
          "execution_count": 10
        }
      ]
    },
    {
      "cell_type": "markdown",
      "metadata": {
        "id": "NgSE-hQIsfDC"
      },
      "source": [
        "### (5)隨機初始化迴歸係數矩陣"
      ]
    },
    {
      "cell_type": "code",
      "source": [
        "# np.random.rand(4).reshape((4,1))"
      ],
      "metadata": {
        "id": "DztdXm8dVLCY"
      },
      "execution_count": null,
      "outputs": []
    },
    {
      "cell_type": "code",
      "metadata": {
        "id": "ZvRtY7tUsfDD",
        "colab": {
          "base_uri": "https://localhost:8080/"
        },
        "outputId": "77f7c7f1-f7f9-4b97-c1a0-08ba608b837e"
      },
      "source": [
        "#亂數初始化迴歸係數為[m列1行]矩陣\n",
        "b=np.random.rand(1)\n",
        "W=\n",
        "b"
      ],
      "execution_count": null,
      "outputs": [
        {
          "output_type": "execute_result",
          "data": {
            "text/plain": [
              "array([0.61837543])"
            ]
          },
          "metadata": {},
          "execution_count": 11
        }
      ]
    },
    {
      "cell_type": "code",
      "source": [
        "W"
      ],
      "metadata": {
        "colab": {
          "base_uri": "https://localhost:8080/"
        },
        "id": "XhxkN0_N1lxD",
        "outputId": "2370866a-c64b-4793-dd04-13aa2d10d105"
      },
      "execution_count": null,
      "outputs": [
        {
          "output_type": "execute_result",
          "data": {
            "text/plain": [
              "array([[0.40630023],\n",
              "       [0.23750026],\n",
              "       [0.17714277],\n",
              "       [0.58115465]])"
            ]
          },
          "metadata": {},
          "execution_count": 12
        }
      ]
    },
    {
      "cell_type": "code",
      "source": [
        "W.shape"
      ],
      "metadata": {
        "colab": {
          "base_uri": "https://localhost:8080/"
        },
        "id": "5R9206ZI8fe7",
        "outputId": "6ba3c004-847b-4c62-d02c-874e23f43bd3"
      },
      "execution_count": null,
      "outputs": [
        {
          "output_type": "execute_result",
          "data": {
            "text/plain": [
              "(4, 1)"
            ]
          },
          "metadata": {},
          "execution_count": 13
        }
      ]
    },
    {
      "cell_type": "markdown",
      "metadata": {
        "id": "iRzulqTosfDI"
      },
      "source": [
        "### (6)計算迴歸模型函數的預測結果矩陣"
      ]
    },
    {
      "cell_type": "code",
      "metadata": {
        "id": "GJxfb387sfDK"
      },
      "source": [
        "def F(x):\n",
        "  return np.dot(x,W)+b\n",
        "#若 return 沒有設定數學公式,此格不會出錯,但是後面訓練時會出錯"
      ],
      "execution_count": null,
      "outputs": []
    },
    {
      "cell_type": "markdown",
      "metadata": {
        "id": "KOaMV1OnsfDP"
      },
      "source": [
        "### (7)定義損失函數LOSS Funcation"
      ]
    },
    {
      "cell_type": "code",
      "metadata": {
        "id": "XTyW225OsfDQ"
      },
      "source": [
        "def Loss(x, y):\n",
        "    return 0.5*np.sum((y-F(x))**2)\n",
        "#若 return 沒有設定數學公式,此格不會出錯,但是後面訓練時會出錯"
      ],
      "execution_count": null,
      "outputs": []
    },
    {
      "cell_type": "markdown",
      "metadata": {
        "id": "Zf29pTtksfDU"
      },
      "source": [
        "### (8)設定學習率和權重更新次數"
      ]
    },
    {
      "cell_type": "code",
      "metadata": {
        "id": "z46vTH5msfDU"
      },
      "source": [
        "ETA = 0.0001\n",
        "Step_Loss=[]"
      ],
      "execution_count": null,
      "outputs": []
    },
    {
      "cell_type": "markdown",
      "metadata": {
        "id": "EMoO8EUJsfDZ"
      },
      "source": [
        "### (9)開始訓練模型"
      ]
    },
    {
      "cell_type": "code",
      "source": [
        "# 20000"
      ],
      "metadata": {
        "id": "xto4zwjqV8tK"
      },
      "execution_count": null,
      "outputs": []
    },
    {
      "cell_type": "code",
      "metadata": {
        "id": "oQFf0n35sfDa",
        "colab": {
          "base_uri": "https://localhost:8080/"
        },
        "outputId": "0b04e90c-a867-4277-9ec6-e76fe2de11f4"
      },
      "source": [
        "for epoch in range(): # 訓練次數過多,造成過擬合\n",
        "    #利用梯度下降更新迴歸係數\n",
        "    b=b-ETA*np.sum(F(mtx_train_x)-mtx_train_y)\n",
        "    W=W-ETA*np.dot(mtx_train_x.T,\n",
        "                   (F(mtx_train_x)-mtx_train_y))\n",
        "    if epoch%100==99:\n",
        "        current_loss = Loss(mtx_train_x, mtx_train_y)\n",
        "        Step_Loss.append(current_loss)\n",
        "        print(\"訓練次數:\",epoch+1,\"\\n偏值:\",b,\n",
        "              \"\\n權重:\",W,\"\\n損失函數:\",current_loss)\n",
        "        display.clear_output(wait=True)"
      ],
      "execution_count": null,
      "outputs": [
        {
          "output_type": "stream",
          "name": "stdout",
          "text": [
            "訓練次數: 10000 \n",
            "偏值: [391.84196141] \n",
            "權重: [[106.23136905]\n",
            " [ 74.47734568]\n",
            " [ -9.66390427]\n",
            " [-19.55739301]] \n",
            "損失函數: 3236.090984668015\n"
          ]
        }
      ]
    },
    {
      "cell_type": "markdown",
      "metadata": {
        "id": "-QsPx2hysfDe"
      },
      "source": [
        "### (10)畫圖檢查模型訓練結果"
      ]
    },
    {
      "cell_type": "code",
      "metadata": {
        "id": "_QCteZTKsfDf",
        "colab": {
          "base_uri": "https://localhost:8080/",
          "height": 362
        },
        "outputId": "26006b8f-4591-461f-97cb-60aedf8542a5"
      },
      "source": [
        "plt.figure(figsize=(8,5))\n",
        "plt.title(\"訓練模型和數據關係圖\",\n",
        "          fontproperties=twfont1,fontsize=20) \n",
        "plt.xlabel(\"x資料\",fontproperties=twfont1,fontsize=20) \n",
        "plt.ylabel(\"y資料\",fontproperties=twfont1,fontsize=20)\n",
        "x = np.linspace(-1.7,2, 2000)\n",
        "plt.plot(x, F(Xmatrix(x)),label=\"模型函數\")\n",
        "plt.plot(train_x, train_y, 'go',label=\"訓練資料集\")\n",
        "plt.plot(valid_x, valid_y, 'ro',label=\"驗證資料集\")\n",
        "plt.legend(prop=twfont1)\n",
        "plt.show()"
      ],
      "execution_count": null,
      "outputs": [
        {
          "output_type": "display_data",
          "data": {
            "image/png": "[encoded data removed]",
            "text/plain": [
              "<Figure size 576x360 with 1 Axes>"
            ]
          },
          "metadata": {
            "needs_background": "light"
          }
        }
      ]
    },
    {
      "cell_type": "markdown",
      "metadata": {
        "id": "8Z7i_PousfDm"
      },
      "source": [
        "### (11)觀察Loss值隨訓練次數的變化"
      ]
    },
    {
      "cell_type": "code",
      "metadata": {
        "id": "OnNGm2nCsfDn",
        "colab": {
          "base_uri": "https://localhost:8080/",
          "height": 362
        },
        "outputId": "89882ba2-7d51-4d2c-df78-1cb75f445bef"
      },
      "source": [
        "plt.figure(figsize=(8,5))\n",
        "plt.title(\"Loss隨訓練次數的變化\",\n",
        "          fontproperties=twfont1,fontsize=20) \n",
        "plt.xlabel(\"訓練次數(x100)\",\n",
        "           fontproperties=twfont1,fontsize=20) \n",
        "plt.ylabel(\"Loss值\",\n",
        "           fontproperties=twfont1,fontsize=20)\n",
        "plt.plot(Step_Loss,\":o\")\n",
        "plt.show()"
      ],
      "execution_count": null,
      "outputs": [
        {
          "output_type": "display_data",
          "data": {
            "image/png": "[encoded data removed]",
            "text/plain": [
              "<Figure size 576x360 with 1 Axes>"
            ]
          },
          "metadata": {
            "needs_background": "light"
          }
        }
      ]
    },
    {
      "cell_type": "markdown",
      "metadata": {
        "id": "x58XUG56sfDr"
      },
      "source": [
        "### (12)比較訓練好的迴歸模型函數在訓練資料集和驗證資料集的每筆平均Loss值"
      ]
    },
    {
      "cell_type": "code",
      "metadata": {
        "id": "yz9NDLGDsfDt",
        "colab": {
          "base_uri": "https://localhost:8080/"
        },
        "outputId": "66a82413-4c81-4d46-9a97-355341416b06"
      },
      "source": [
        "print(\"訓練資料集對回歸模型的每筆平均Loss值\",\n",
        "      Loss(mtx_train_x, mtx_train_y)/np.size(train_x))\n",
        "print(\"驗證資料集對回歸模型的每筆平均Loss值\",\n",
        "      Loss(mtx_valid_x, mtx_valid_y)/np.size(valid_x))"
      ],
      "execution_count": null,
      "outputs": [
        {
          "output_type": "stream",
          "name": "stdout",
          "text": [
            "訓練資料集對回歸模型的每筆平均Loss值 269.6742487223346\n",
            "驗證資料集對回歸模型的每筆平均Loss值 1167.1748663814242\n"
          ]
        }
      ]
    }
  ]
}