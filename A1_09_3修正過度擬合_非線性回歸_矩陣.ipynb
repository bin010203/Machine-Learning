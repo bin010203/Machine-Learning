{
  "nbformat": 4,
  "nbformat_minor": 0,
  "metadata": {
    "kernelspec": {
      "display_name": "Python 3",
      "language": "python",
      "name": "python3"
    },
    "language_info": {
      "codemirror_mode": {
        "name": "ipython",
        "version": 3
      },
      "file_extension": ".py",
      "mimetype": "text/x-python",
      "name": "python",
      "nbconvert_exporter": "python",
      "pygments_lexer": "ipython3",
      "version": "3.6.9"
    },
    "colab": {
      "name": "A1-09-3修正過度擬合_非線性回歸-矩陣.ipynb",
      "provenance": [],
      "collapsed_sections": [],
      "include_colab_link": true
    }
  },
  "cells": [
    {
      "cell_type": "markdown",
      "metadata": {
        "id": "view-in-github",
        "colab_type": "text"
      },
      "source": [
        "<a href=\"https://colab.research.google.com/github/bin010203/Machine-Learning/blob/main/A1_09_3%E4%BF%AE%E6%AD%A3%E9%81%8E%E5%BA%A6%E6%93%AC%E5%90%88_%E9%9D%9E%E7%B7%9A%E6%80%A7%E5%9B%9E%E6%AD%B8_%E7%9F%A9%E9%99%A3.ipynb\" target=\"_parent\"><img src=\"https://colab.research.google.com/assets/colab-badge.svg\" alt=\"Open In Colab\"/></a>"
      ]
    },
    {
      "cell_type": "markdown",
      "metadata": {
        "id": "e7TYvfSrsfCp"
      },
      "source": [
        "# 實作09：修正過度擬合_非線性回歸-利用矩陣運算\n",
        "##自變數x的4次方的非線性迴歸"
      ]
    },
    {
      "cell_type": "markdown",
      "metadata": {
        "id": "52kgrwu1shG3"
      },
      "source": [
        "### (0)掛載雲端硬碟"
      ]
    },
    {
      "cell_type": "code",
      "metadata": {
        "id": "LWaoHwrHsrYA",
        "colab": {
          "base_uri": "https://localhost:8080/"
        },
        "outputId": "a20d9f4a-db57-4cf7-ce06-7a215c2d1cfc"
      },
      "source": [
        "from google.colab import drive\n",
        "drive.mount('/content/drive')"
      ],
      "execution_count": null,
      "outputs": [
        {
          "output_type": "stream",
          "name": "stdout",
          "text": [
            "Mounted at /content/drive\n"
          ]
        }
      ]
    },
    {
      "cell_type": "markdown",
      "metadata": {
        "id": "2NOEbnN8sfCr"
      },
      "source": [
        "### (1)import必要的套件"
      ]
    },
    {
      "cell_type": "code",
      "metadata": {
        "id": "p-nVGunlsfCs"
      },
      "source": [
        "import numpy as np\n",
        "from IPython import display\n",
        "import matplotlib.pyplot as plt\n",
        "import matplotlib.font_manager as plt_font\n",
        "#要記得改為自己的字形檔案路徑\n",
        "twfont1 = plt_font.FontProperties(\n",
        "    fname=\"/content/drive/MyDrive/Colab Notebooks/kaiu.ttf\")\n",
        "#若 fname 沒有設定路徑檔案,此格不會出錯,但是後面繪圖用中文字形會出錯"
      ],
      "execution_count": null,
      "outputs": []
    },
    {
      "cell_type": "markdown",
      "metadata": {
        "id": "tOoOWi93qPgf"
      },
      "source": [
        "### (2)定義特徵縮放的函數"
      ]
    },
    {
      "cell_type": "code",
      "metadata": {
        "id": "oDtjfYUIqQwU"
      },
      "source": [
        "#參數kind預設為0，做標準化；kind設為1，做歸一化\n",
        "def FeatureScaling(data,kind=0):\n",
        "  if kind==1:\n",
        "    return (data-data.min())/(data.max()-data.min())\n",
        "  else:\n",
        "    return (data-data.mean())/data.std()\n",
        "#若 return 沒有設定數學公式,此格不會出錯,但是後面訓練時會出錯"
      ],
      "execution_count": null,
      "outputs": []
    },
    {
      "cell_type": "markdown",
      "metadata": {
        "id": "OVOf8tNGsfCz"
      },
      "source": [
        "### (3)將原始資料分為訓練資料集和驗證資料集"
      ]
    },
    {
      "cell_type": "code",
      "metadata": {
        "id": "XYHCBxhisfCz"
      },
      "source": [
        "#由自己的雲端SalesVolume.csv檔案載入資料集\n",
        "data= np.loadtxt(\n",
        "    \"/content/drive/MyDrive/Colab Notebooks/SalesVolume.csv\",\n",
        "    delimiter=\",\")\n",
        "#第0列為廣告推播次數，並做特徵縮放，\n",
        "#第2參數設為0是標準化，設為1是歸一化\n",
        "data_x=FeatureScaling(data[0],0)\n",
        "data_y=data[1] #第1列為商品銷售數量\n",
        "#訓練資料集12筆\n",
        "train_x=data_x[:12]\n",
        "train_y=data_y[:12]\n",
        "#驗證資料集8筆\n",
        "valid_x=data_x[12:]\n",
        "valid_y=data_y[12:]"
      ],
      "execution_count": null,
      "outputs": []
    },
    {
      "cell_type": "markdown",
      "metadata": {
        "id": "euup-ZgasfC9"
      },
      "source": [
        "### (4)產生自變數資料和依變數資料的矩陣"
      ]
    },
    {
      "cell_type": "code",
      "source": [
        "# np.vstack([x,x**2,x**3,x**4]).T"
      ],
      "metadata": {
        "id": "UnimF_vR95ez"
      },
      "execution_count": null,
      "outputs": []
    },
    {
      "cell_type": "code",
      "metadata": {
        "id": "F_rlB_uxsfC9"
      },
      "source": [
        "#自變數x的4次方的非線性迴歸\n",
        "#垂直堆疊x,x**2,x**3,x**4，再轉置組成X矩陣\n",
        "def Xmatrix(x):\n",
        "  return \n",
        "#若 return 沒有設定數學公式,此格不會出錯,但是後面訓練時會出錯\n",
        "#將訓練集資料和驗證集資料的自變數x轉成[K列m+1行]矩陣\n",
        "mtx_train_x=Xmatrix(train_x)\n",
        "mtx_valid_x=Xmatrix(valid_x)\n",
        "#將訓練集資料和驗證集資料的依變數y轉成[K列1行]矩陣\n",
        "mtx_train_y=train_y.reshape((-1,1))\n",
        "mtx_valid_y=valid_y.reshape((-1,1))"
      ],
      "execution_count": null,
      "outputs": []
    },
    {
      "cell_type": "code",
      "source": [
        "mtx_train_x.shape"
      ],
      "metadata": {
        "colab": {
          "base_uri": "https://localhost:8080/"
        },
        "id": "hrBL-bH36IvK",
        "outputId": "7eebdde8-121a-439e-d471-4fcb5f340b65"
      },
      "execution_count": null,
      "outputs": [
        {
          "output_type": "execute_result",
          "data": {
            "text/plain": [
              "(12, 4)"
            ]
          },
          "metadata": {},
          "execution_count": 6
        }
      ]
    },
    {
      "cell_type": "code",
      "source": [
        "mtx_train_x"
      ],
      "metadata": {
        "colab": {
          "base_uri": "https://localhost:8080/"
        },
        "id": "mabfMOjF48A1",
        "outputId": "7ab48ebf-c67a-40b8-c665-daea95f22ff2"
      },
      "execution_count": null,
      "outputs": [
        {
          "output_type": "execute_result",
          "data": {
            "text/plain": [
              "array([[ 1.47680664e+00,  2.18095784e+00,  3.22085302e+00,\n",
              "         4.75657711e+00],\n",
              "       [ 1.17387194e+00,  1.37797534e+00,  1.61756659e+00,\n",
              "         1.89881603e+00],\n",
              "       [ 1.13600511e-01,  1.29050760e-02,  1.46602322e-03,\n",
              "         1.66540986e-04],\n",
              "       [-1.55254031e+00,  2.41038142e+00, -3.74221431e+00,\n",
              "         5.80993857e+00],\n",
              "       [-7.95203574e-01,  6.32348724e-01, -5.02845965e-01,\n",
              "         3.99864909e-01],\n",
              "       [ 8.70937248e-01,  7.58531689e-01,  6.60633501e-01,\n",
              "         5.75370323e-01],\n",
              "       [-1.40107296e+00,  1.96300545e+00, -2.75031386e+00,\n",
              "         3.85339039e+00],\n",
              "       [-1.70400766e+00,  2.90364210e+00, -4.94782837e+00,\n",
              "         8.43113744e+00],\n",
              "       [ 4.16535205e-01,  1.73501577e-01,  7.22695151e-02,\n",
              "         3.01027973e-02],\n",
              "       [ 7.19469900e-01,  5.17636937e-01,  3.72424196e-01,\n",
              "         2.67947999e-01],\n",
              "       [-1.89334184e-01,  3.58474333e-02, -6.78714455e-03,\n",
              "         1.28503848e-03],\n",
              "       [-6.43736226e-01,  4.14396329e-01, -2.66761929e-01,\n",
              "         1.71724318e-01]])"
            ]
          },
          "metadata": {},
          "execution_count": 7
        }
      ]
    },
    {
      "cell_type": "code",
      "source": [
        "mtx_train_y.shape"
      ],
      "metadata": {
        "colab": {
          "base_uri": "https://localhost:8080/"
        },
        "id": "dPRIRs3q6bB4",
        "outputId": "e8e22c67-bffa-4169-dd44-393ae75e44be"
      },
      "execution_count": null,
      "outputs": [
        {
          "output_type": "execute_result",
          "data": {
            "text/plain": [
              "(12, 1)"
            ]
          },
          "metadata": {},
          "execution_count": 8
        }
      ]
    },
    {
      "cell_type": "code",
      "source": [
        "mtx_train_y"
      ],
      "metadata": {
        "colab": {
          "base_uri": "https://localhost:8080/"
        },
        "id": "J0NSQIPk49SJ",
        "outputId": "7df51420-e056-4a93-9bec-dfe3b33b667c"
      },
      "execution_count": null,
      "outputs": [
        {
          "output_type": "execute_result",
          "data": {
            "text/plain": [
              "array([[591.],\n",
              "       [543.],\n",
              "       [410.],\n",
              "       [310.],\n",
              "       [319.],\n",
              "       [520.],\n",
              "       [338.],\n",
              "       [330.],\n",
              "       [501.],\n",
              "       [508.],\n",
              "       [399.],\n",
              "       [331.]])"
            ]
          },
          "metadata": {},
          "execution_count": 9
        }
      ]
    },
    {
      "cell_type": "markdown",
      "metadata": {
        "id": "NgSE-hQIsfDC"
      },
      "source": [
        "### (5)隨機初始化迴歸係數矩陣"
      ]
    },
    {
      "cell_type": "code",
      "metadata": {
        "id": "ZvRtY7tUsfDD",
        "colab": {
          "base_uri": "https://localhost:8080/"
        },
        "outputId": "ca0099f7-e6ce-4047-aa07-da637bfd7fa3"
      },
      "source": [
        "#亂數初始化迴歸係數為[m列1行]矩陣\n",
        "b=np.random.rand(1)\n",
        "W=np.random.rand(4).reshape((4,1))\n",
        "b"
      ],
      "execution_count": null,
      "outputs": [
        {
          "output_type": "execute_result",
          "data": {
            "text/plain": [
              "array([0.45128446])"
            ]
          },
          "metadata": {},
          "execution_count": 10
        }
      ]
    },
    {
      "cell_type": "code",
      "source": [
        "W"
      ],
      "metadata": {
        "colab": {
          "base_uri": "https://localhost:8080/"
        },
        "id": "XhxkN0_N1lxD",
        "outputId": "58581fc5-f647-4b47-e047-40d639f78241"
      },
      "execution_count": null,
      "outputs": [
        {
          "output_type": "execute_result",
          "data": {
            "text/plain": [
              "array([[0.05238801],\n",
              "       [0.49372909],\n",
              "       [0.72287258],\n",
              "       [0.12519102]])"
            ]
          },
          "metadata": {},
          "execution_count": 11
        }
      ]
    },
    {
      "cell_type": "code",
      "source": [
        "W.shape"
      ],
      "metadata": {
        "colab": {
          "base_uri": "https://localhost:8080/"
        },
        "id": "5R9206ZI8fe7",
        "outputId": "2155b2f0-f7f8-42d9-c155-e3dea18bfdc1"
      },
      "execution_count": null,
      "outputs": [
        {
          "output_type": "execute_result",
          "data": {
            "text/plain": [
              "(4, 1)"
            ]
          },
          "metadata": {},
          "execution_count": 12
        }
      ]
    },
    {
      "cell_type": "markdown",
      "metadata": {
        "id": "iRzulqTosfDI"
      },
      "source": [
        "### (6)計算迴歸模型函數的預測結果矩陣"
      ]
    },
    {
      "cell_type": "code",
      "source": [
        "# np.dot(x,W)+b"
      ],
      "metadata": {
        "id": "DG2Ws1F0-Mq1"
      },
      "execution_count": null,
      "outputs": []
    },
    {
      "cell_type": "code",
      "metadata": {
        "id": "GJxfb387sfDK"
      },
      "source": [
        "def F(x):\n",
        "  return \n",
        "#若 return 沒有設定數學公式,此格不會出錯,但是後面訓練時會出錯"
      ],
      "execution_count": null,
      "outputs": []
    },
    {
      "cell_type": "markdown",
      "metadata": {
        "id": "KOaMV1OnsfDP"
      },
      "source": [
        "### (7)定義損失函數LOSS Funcation"
      ]
    },
    {
      "cell_type": "code",
      "source": [
        "# 0.5*np.sum((y-F(x))**2)"
      ],
      "metadata": {
        "id": "Of30dwgx-PLM"
      },
      "execution_count": null,
      "outputs": []
    },
    {
      "cell_type": "code",
      "metadata": {
        "id": "XTyW225OsfDQ"
      },
      "source": [
        "def Loss(x, y):\n",
        "    return \n",
        "#若 return 沒有設定數學公式,此格不會出錯,但是後面訓練時會出錯"
      ],
      "execution_count": null,
      "outputs": []
    },
    {
      "cell_type": "markdown",
      "metadata": {
        "id": "Zf29pTtksfDU"
      },
      "source": [
        "### (8)設定學習率和權重更新次數"
      ]
    },
    {
      "cell_type": "code",
      "metadata": {
        "id": "z46vTH5msfDU"
      },
      "source": [
        "ETA = 0.0001\n",
        "Step_Loss=[]\n",
        "Step_Loss_valid=[]"
      ],
      "execution_count": null,
      "outputs": []
    },
    {
      "cell_type": "markdown",
      "metadata": {
        "id": "EMoO8EUJsfDZ"
      },
      "source": [
        "### (9)開始訓練模型"
      ]
    },
    {
      "cell_type": "code",
      "source": [
        "# 5000\n",
        "# b-ETA*np.sum(F(mtx_train_x)-mtx_train_y)"
      ],
      "metadata": {
        "id": "GzbhJLAZ-UQr"
      },
      "execution_count": null,
      "outputs": []
    },
    {
      "cell_type": "code",
      "metadata": {
        "id": "oQFf0n35sfDa",
        "colab": {
          "base_uri": "https://localhost:8080/"
        },
        "outputId": "d1f8faab-f18f-4266-c4d2-3633f3512e3d"
      },
      "source": [
        "for epoch in range():\n",
        "    #利用梯度下降更新迴歸係數\n",
        "    b=\n",
        "    W=W-ETA*np.dot(mtx_train_x.T,\n",
        "                   (F(mtx_train_x)-mtx_train_y))\n",
        "    if epoch%100==99:\n",
        "        #訓練集目前的損失函數\n",
        "        current_loss = Loss(mtx_train_x, mtx_train_y)\n",
        "        #驗證集目前的損失函數\n",
        "        current_loss_valid = Loss(mtx_valid_x, mtx_valid_y)\n",
        "        #訓練集的損失函數列表\n",
        "        Step_Loss.append(current_loss) \n",
        "        #驗證集的損失函數列表           \n",
        "        Step_Loss_valid.append(current_loss_valid)\n",
        "        print(\"訓練次數:\",epoch+1,\"\\n偏值:\",b,\n",
        "              \"\\n權重:\",W,\"\\n損失函數:\",current_loss,\n",
        "              \"\\n驗證資料損失函數:\",current_loss_valid)\n",
        "        #display.clear_output(wait=True)"
      ],
      "execution_count": null,
      "outputs": [
        {
          "output_type": "stream",
          "name": "stdout",
          "text": [
            "訓練次數: 100 \n",
            "偏值: [38.92667708] \n",
            "權重: [[10.7395021 ]\n",
            " [31.0205743 ]\n",
            " [12.09293922]\n",
            " [46.44993202]] \n",
            "損失函數: 576403.8724540741 \n",
            "驗證資料損失函數: 468261.49053055746\n",
            "訓練次數: 200 \n",
            "偏值: [66.68196346] \n",
            "權重: [[21.42878203]\n",
            " [43.49317155]\n",
            " [28.19198512]\n",
            " [53.29416348]] \n",
            "損失函數: 439473.081691032 \n",
            "驗證資料損失函數: 513518.8781672642\n",
            "訓練次數: 300 \n",
            "偏值: [90.36732001] \n",
            "權重: [[28.88018265]\n",
            " [51.60526719]\n",
            " [38.76955431]\n",
            " [53.02503115]] \n",
            "損失函數: 359580.5009369487 \n",
            "驗證資料損失函數: 546480.2734766898\n",
            "訓練次數: 400 \n",
            "偏值: [111.42961212] \n",
            "權重: [[33.86002473]\n",
            " [57.74543311]\n",
            " [44.76399821]\n",
            " [50.59989064]] \n",
            "損失函數: 304608.96803269733 \n",
            "驗證資料損失函數: 548981.8102591445\n",
            "訓練次數: 500 \n",
            "偏值: [130.46785375] \n",
            "權重: [[37.21828582]\n",
            " [62.64865197]\n",
            " [47.7234584 ]\n",
            " [47.2057171 ]] \n",
            "損失函數: 262735.7104638266 \n",
            "驗證資料損失函數: 527295.2875463598\n",
            "訓練次數: 600 \n",
            "偏值: [147.8481637] \n",
            "權重: [[39.54530479]\n",
            " [66.69204767]\n",
            " [48.76021317]\n",
            " [43.34695841]] \n",
            "損失函數: 228732.50293173664 \n",
            "驗證資料損失函數: 490539.92620031926\n",
            "訓練次數: 700 \n",
            "偏值: [163.82459674] \n",
            "權重: [[41.22502479]\n",
            " [70.1108916 ]\n",
            " [48.60208987]\n",
            " [39.30853395]] \n",
            "損失函數: 200119.03347578336 \n",
            "驗證資料損失函數: 446321.05267886765\n",
            "訓練次數: 800 \n",
            "偏值: [178.58244729] \n",
            "權重: [[42.50371702]\n",
            " [73.0599718 ]\n",
            " [47.71659542]\n",
            " [35.26217441]] \n",
            "損失函數: 175593.41796123158 \n",
            "驗證資料損失函數: 399889.9306535433\n",
            "訓練次數: 900 \n",
            "偏值: [192.26188002] \n",
            "權重: [[43.53853474]\n",
            " [75.64334919]\n",
            " [46.40223724]\n",
            " [31.31073935]] \n",
            "損失函數: 154377.36539536744 \n",
            "驗證資料損失函數: 354478.19617232314\n",
            "訓練次數: 1000 \n",
            "偏值: [204.97269204] \n",
            "權重: [[44.42929904]\n",
            " [77.93230307]\n",
            " [44.84872229]\n",
            " [27.51367772]] \n",
            "損失函數: 135940.34609315122 \n",
            "驗證資料損失函數: 311875.6845413392\n",
            "訓練次數: 1100 \n",
            "偏值: [216.80383841] \n",
            "權重: [[45.23901728]\n",
            " [79.97674707]\n",
            " [43.17586961]\n",
            " [23.90300123]] \n",
            "損失函數: 119881.33485820582 \n",
            "驗證資料損失函數: 272935.1843882089\n",
            "訓練次數: 1200 \n",
            "偏值: [227.82964122] \n",
            "權重: [[46.0070906 ]\n",
            " [81.81257621]\n",
            " [41.45866575]\n",
            " [20.49348697]] \n",
            "損失函數: 105876.34677724446 \n",
            "驗證資料損失函數: 237938.25123866004\n",
            "訓練次數: 1300 \n",
            "偏值: [238.11386607] \n",
            "權重: [[46.75780927]\n",
            " [83.46641101]\n",
            " [39.74338296]\n",
            " [17.28920977]] \n",
            "損失函數: 93653.67910116004 \n",
            "驗證資料損失函數: 206838.05203353043\n",
            "訓練次數: 1400 \n",
            "偏值: [247.71242148] \n",
            "權重: [[47.50581468]\n",
            " [84.95866725]\n",
            " [38.05794363]\n",
            " [14.28771963]] \n",
            "損失函數: 82981.02299026799 \n",
            "驗證資料損失函數: 179412.3384364472\n",
            "訓練次數: 1500 \n",
            "偏值: [256.67516714] \n",
            "權重: [[48.25960945]\n",
            " [86.30554738]\n",
            " [36.41858207]\n",
            " [11.48270595]] \n",
            "損失函數: 73657.83358912998 \n",
            "驗證資料損失函數: 155356.16318990453\n",
            "訓練次數: 1600 \n",
            "偏值: [265.04714384] \n",
            "權重: [[49.02381175]\n",
            " [87.52033681]\n",
            " [34.83412384]\n",
            " [ 8.8656895 ]] \n",
            "損失函數: 65510.175014635446 \n",
            "驗證資料損失函數: 134336.1057983025\n",
            "訓練次數: 1700 \n",
            "偏值: [272.86942688] \n",
            "權重: [[49.80060152]\n",
            " [88.6142519 ]\n",
            " [33.30873228]\n",
            " [ 6.42709031]] \n",
            "損失函數: 58386.84856494757 \n",
            "驗證資料損失函數: 116020.68068238121\n",
            "訓練次數: 1800 \n",
            "偏值: [280.17973295] \n",
            "權重: [[50.59064714]\n",
            " [89.59699857]\n",
            " [31.84366909]\n",
            " [ 4.15689522]] \n",
            "損失函數: 52156.2769504599 \n",
            "驗證資料損失函數: 100096.3639499087\n",
            "訓練次數: 1900 \n",
            "偏值: [287.01286454] \n",
            "權重: [[51.39369788]\n",
            " [90.47714369]\n",
            " [30.43842092]\n",
            " [ 2.0450692 ]] \n",
            "損失函數: 46703.897034196205 \n",
            "驗證資料損失函數: 86275.1322813523\n",
            "訓練次數: 2000 \n",
            "偏值: [293.40104618] \n",
            "權重: [[5.22089615e+01]\n",
            " [9.12623653e+01]\n",
            " [2.90914182e+01]\n",
            " [8.18027946e-02]] \n",
            "損失函數: 41929.933246886074 \n",
            "驗證資料損失函數: 74297.12084040155\n",
            "訓練次數: 2100 \n",
            "偏值: [299.37418772] \n",
            "權重: [[53.03534399]\n",
            " [91.95962401]\n",
            " [27.8004919 ]\n",
            " [-1.74234447]] \n",
            "損失函數: 37747.47672158718 \n",
            "驗證資料損失函數: 63930.57242998837\n",
            "訓練次數: 2200 \n",
            "偏值: [304.96009755] \n",
            "權重: [[53.87160045]\n",
            " [92.57528309]\n",
            " [26.56316273]\n",
            " [-3.43636684]] \n",
            "損失函數: 34080.81996061116 \n",
            "驗證資料損失函數: 54970.36654379909\n",
            "訓練次數: 2300 \n",
            "偏值: [310.18466057] \n",
            "權重: [[54.71642954]\n",
            " [93.11519477]\n",
            " [25.37682147]\n",
            " [-5.00877653]] \n",
            "損失函數: 30864.00959157106 \n",
            "驗證資料損失函數: 47235.880054489586\n",
            "訓練次數: 2400 \n",
            "偏值: [315.07199096] \n",
            "權重: [[55.56853125]\n",
            " [93.58476422]\n",
            " [24.23884099]\n",
            " [-6.46759363]] \n",
            "損失函數: 28039.587206335906 \n",
            "驗證資料損失函數: 40568.60854175336\n",
            "訓練次數: 2500 \n",
            "偏值: [319.64456594] \n",
            "權重: [[56.4266416 ]\n",
            " [93.98899873]\n",
            " [23.14664372]\n",
            " [-7.82035183]] \n",
            "損失函數: 25557.493233251258 \n",
            "驗證資料損失函數: 34829.78522581254\n",
            "訓練次數: 2600 \n",
            "偏值: [323.92334513] \n",
            "權重: [[57.2895526 ]\n",
            " [94.33254656]\n",
            " [22.09774111]\n",
            " [-9.07411338]] \n",
            "損失函數: 23374.112477854364 \n",
            "驗證資料損失函數: 29898.12147541053\n",
            "訓練次數: 2700 \n",
            "偏值: [327.9278783] \n",
            "權重: [[ 58.15612279]\n",
            " [ 94.61972898]\n",
            " [ 21.08975522]\n",
            " [-10.2354893 ]] \n",
            "損失函數: 21451.442913558854 \n",
            "驗證資料損失函數: 25667.72730861329\n",
            "訓練次數: 2800 \n",
            "偏值: [331.6764036] \n",
            "權重: [[ 59.02528193]\n",
            " [ 94.85456723]\n",
            " [ 20.12042909]\n",
            " [-11.31066226]] \n",
            "損失函數: 19756.37176004762 \n",
            "驗證資料損失函數: 22046.23303564576\n",
            "訓練次數: 2900 \n",
            "偏值: [335.18593784] \n",
            "權重: [[ 59.89603212]\n",
            " [ 95.04080584]\n",
            " [ 19.18763011]\n",
            " [-12.30541051]] \n",
            "損失函數: 18260.04498048396 \n",
            "驗證資料損失函數: 18953.112654362063\n",
            "訓練次數: 3000 \n",
            "偏值: [338.47235967] \n",
            "權重: [[ 60.76744666]\n",
            " [ 95.18193328]\n",
            " [ 18.28934911]\n",
            " [-13.22513185]] \n",
            "損失函數: 16937.318132579123 \n",
            "驗證資料損失函數: 16318.198874205933\n",
            "訓練次數: 3100 \n",
            "偏值: [341.55048668] \n",
            "權重: [[ 61.6386676 ]\n",
            " [ 95.28120044]\n",
            " [ 17.42369693]\n",
            " [-14.07486713]] \n",
            "損失函數: 15766.27807153337 \n",
            "驗證資料損失函數: 14080.374580517593\n",
            "訓練次數: 3200 \n",
            "偏值: [344.43414692] \n",
            "權重: [[ 62.50890264]\n",
            " [ 95.34163736]\n",
            " [ 16.58889949]\n",
            " [-14.85932283]] \n",
            "損失函數: 14727.826360687586 \n",
            "驗證資料損失函數: 12186.42370452146\n",
            "訓練次數: 3300 \n",
            "偏值: [347.13624537] \n",
            "權重: [[ 63.37742158]\n",
            " [ 95.36606862]\n",
            " [ 15.78329218]\n",
            " [-15.58289252]] \n",
            "損失函數: 13805.31642682255 \n",
            "驗證資料損失函數: 10590.024388494261\n",
            "訓練次數: 3400 \n",
            "偏值: [349.66882587] \n",
            "權重: [[ 64.24355268]\n",
            " [ 95.35712741]\n",
            " [ 15.00531382]\n",
            " [-16.24967731]] \n",
            "損失函數: 12984.237525088554 \n",
            "驗證資料損失函數: 9250.868184650777\n",
            "訓練次數: 3500 \n",
            "偏值: [352.04312878] \n",
            "權重: [[ 65.10667911]\n",
            " [ 95.31726854]\n",
            " [ 14.2535007 ]\n",
            " [-16.863505  ]] \n",
            "損失函數: 12251.939473641829 \n",
            "驗證資料損失函數: 8133.890311813051\n",
            "訓練次數: 3600 \n",
            "偏值: [354.26964468] \n",
            "權重: [[ 65.96623532]\n",
            " [ 95.24878057]\n",
            " [ 13.52648061]\n",
            " [-17.42794809]] \n",
            "損失函數: 11597.392897526082 \n",
            "驗證資料損失函數: 7208.597439249748\n",
            "訓練次數: 3700 \n",
            "偏值: [356.35816454] \n",
            "權重: [[ 66.82170371]\n",
            " [ 95.15379701]\n",
            " [ 12.82296721]\n",
            " [-17.94634072]] \n",
            "損失函數: 11010.980400162527 \n",
            "驗證資料損失函數: 6448.480920076572\n",
            "訓練次數: 3800 \n",
            "偏值: [358.31782642] \n",
            "權重: [[ 67.67261136]\n",
            " [ 95.03430675]\n",
            " [ 12.1417545 ]\n",
            " [-18.42179448]] \n",
            "損失函數: 10484.31467201349 \n",
            "驗證資料損失函數: 5830.504777905226\n",
            "訓練次數: 3900 \n",
            "偏值: [360.15715906] \n",
            "權重: [[ 68.51852703]\n",
            " [ 94.89216376]\n",
            " [ 11.48171173]\n",
            " [-18.8572132 ]] \n",
            "損失函數: 10010.08006088613 \n",
            "驗證資料損失函數: 5334.659022565907\n",
            "訓練次數: 4000 \n",
            "偏值: [361.8841226] \n",
            "權重: [[ 69.35905823]\n",
            " [ 94.72909619]\n",
            " [ 10.84177851]\n",
            " [-19.25530678]] \n",
            "損失函數: 9581.894576801402 \n",
            "驗證資料損失函數: 4943.570019992994\n",
            "訓練次數: 4100 \n",
            "偏值: [363.50614653] \n",
            "權重: [[ 70.19384858]\n",
            " [ 94.54671478]\n",
            " [ 10.22096026]\n",
            " [-19.61860414]] \n",
            "損失函數: 9194.189694937551 \n",
            "驗證資料損失函數: 4642.160667049899\n",
            "訓練次數: 4200 \n",
            "偏值: [365.03016506] \n",
            "權重: [[ 71.02257523]\n",
            " [ 94.34652071]\n",
            " [  9.61832387]\n",
            " [-19.94946523]] \n",
            "損失函數: 8842.105660346 \n",
            "驗證資料損失函數: 4417.354030291728\n",
            "訓練次數: 4300 \n",
            "偏值: [366.46265026] \n",
            "權重: [[ 71.84494654]\n",
            " [ 94.12991299]\n",
            " [  9.03299375]\n",
            " [-20.25009234]] \n",
            "損失函數: 8521.400294426805 \n",
            "驗證資料損失函數: 4257.814907712462\n",
            "訓練次數: 4400 \n",
            "偏值: [367.80964281] \n",
            "權重: [[ 72.66069988]\n",
            " [ 93.89819528]\n",
            " [  8.46414802]\n",
            " [-20.52254062]] \n",
            "損失函數: 8228.369561211295 \n",
            "驗證資料損失函數: 4153.724474873341\n",
            "訓練次數: 4500 \n",
            "偏值: [369.07678085] \n",
            "權重: [[ 73.46959953]\n",
            " [ 93.65258227]\n",
            " [  7.91101504]\n",
            " [-20.76872788]] \n",
            "損失函數: 7959.778376260039 \n",
            "驗證資料損失函數: 4096.583791981544\n",
            "訓練次數: 4600 \n",
            "偏值: [370.26932682] \n",
            "權重: [[ 74.27143478]\n",
            " [ 93.39420567]\n",
            " [  7.37287009]\n",
            " [-20.99044374]] \n",
            "損失函數: 7712.800336744684 \n",
            "驗證資料損失函數: 4079.042486489742\n",
            "訓練次數: 4700 \n",
            "偏值: [371.39219253] \n",
            "權重: [[ 75.06601816]\n",
            " [ 93.12411973]\n",
            " [  6.84903234]\n",
            " [-21.18935823]] \n",
            "損失函數: 7484.965221782899 \n",
            "驗證資料損失函數: 4094.749395822233\n",
            "訓練次數: 4800 \n",
            "偏值: [372.44996254] \n",
            "權重: [[ 75.85318373]\n",
            " [ 92.84330649]\n",
            " [  6.33886195]\n",
            " [-21.36702974]] \n",
            "損失函數: 7274.113260596851 \n",
            "驗證資料損失函數: 4138.222365218044\n",
            "訓練次數: 4900 \n",
            "偏值: [373.44691604] \n",
            "權重: [[ 76.63278552]\n",
            " [ 92.55268057]\n",
            " [  5.84175741]\n",
            " [-21.52491246]] \n",
            "損失函數: 7078.355295405379 \n",
            "驗證資料損失函數: 4204.734753829684\n",
            "訓練次數: 5000 \n",
            "偏值: [374.38704718] \n",
            "權重: [[ 77.40469612]\n",
            " [ 92.25309371]\n",
            " [  5.35715307]\n",
            " [-21.66436338]] \n",
            "損失函數: 6896.03807861079 \n",
            "驗證資料損失函數: 4290.216514690702\n"
          ]
        }
      ]
    },
    {
      "cell_type": "markdown",
      "metadata": {
        "id": "-QsPx2hysfDe"
      },
      "source": [
        "### (10)畫圖檢查模型訓練結果"
      ]
    },
    {
      "cell_type": "code",
      "metadata": {
        "id": "_QCteZTKsfDf",
        "colab": {
          "base_uri": "https://localhost:8080/",
          "height": 362
        },
        "outputId": "1b0ab5e2-abaf-455d-9854-f850b0c847df"
      },
      "source": [
        "plt.figure(figsize=(8,5))\n",
        "plt.title(\"訓練模型和數據關係圖\",\n",
        "          fontproperties=twfont1,fontsize=20) \n",
        "plt.xlabel(\"x資料\",fontproperties=twfont1,fontsize=20) \n",
        "plt.ylabel(\"y資料\",fontproperties=twfont1,fontsize=20)\n",
        "x = np.linspace(-1.7,2, 2000)\n",
        "plt.plot(x, F(Xmatrix(x)),label=\"模型函數\")\n",
        "plt.plot(train_x, train_y, 'go',label=\"訓練資料集\")\n",
        "plt.plot(valid_x, valid_y, 'ro',label=\"驗證資料集\")\n",
        "plt.legend(prop=twfont1)\n",
        "plt.show()"
      ],
      "execution_count": null,
      "outputs": [
        {
          "output_type": "display_data",
          "data": {
            "image/png": "[encoded data removed]",
            "text/plain": [
              "<Figure size 576x360 with 1 Axes>"
            ]
          },
          "metadata": {
            "needs_background": "light"
          }
        }
      ]
    },
    {
      "cell_type": "markdown",
      "metadata": {
        "id": "8Z7i_PousfDm"
      },
      "source": [
        "### (11)觀察Loss值隨訓練次數的變化"
      ]
    },
    {
      "cell_type": "code",
      "metadata": {
        "id": "OnNGm2nCsfDn",
        "colab": {
          "base_uri": "https://localhost:8080/",
          "height": 762
        },
        "outputId": "15b9a332-d7ea-474e-adaf-5507003419e3"
      },
      "source": [
        "plt.figure(figsize=(22,12))\n",
        "#plt.ylim =2400000\n",
        "plt.title(\"Loss隨訓練次數的變化\",\n",
        "          fontproperties=twfont1,fontsize=20) \n",
        "plt.xlabel(\"訓練次數(x100)\",\n",
        "           fontproperties=twfont1,fontsize=20) \n",
        "plt.ylabel(\"Loss值\",\n",
        "           fontproperties=twfont1,fontsize=20)\n",
        "plt.plot(Step_Loss,\":o\")\n",
        "plt.plot(Step_Loss_valid,\"r:x\")\n",
        "plt.show()"
      ],
      "execution_count": null,
      "outputs": [
        {
          "output_type": "display_data",
          "data": {
            "image/png": "[encoded data removed]",
            "text/plain": [
              "<Figure size 1584x864 with 1 Axes>"
            ]
          },
          "metadata": {
            "needs_background": "light"
          }
        }
      ]
    },
    {
      "cell_type": "markdown",
      "metadata": {
        "id": "x58XUG56sfDr"
      },
      "source": [
        "### (12)比較訓練好的迴歸模型函數在訓練資料集和驗證資料集的每筆平均Loss值"
      ]
    },
    {
      "cell_type": "code",
      "metadata": {
        "id": "yz9NDLGDsfDt",
        "colab": {
          "base_uri": "https://localhost:8080/"
        },
        "outputId": "cc918c1c-fd6d-4f6f-ad47-00eb6c5815ce"
      },
      "source": [
        "print(\"訓練資料集對回歸模型的每筆平均Loss值\",\n",
        "      Loss(mtx_train_x, mtx_train_y)/np.size(train_x))\n",
        "print(\"驗證資料集對回歸模型的每筆平均Loss值\",\n",
        "      Loss(mtx_valid_x, mtx_valid_y)/np.size(valid_x))"
      ],
      "execution_count": null,
      "outputs": [
        {
          "output_type": "stream",
          "name": "stdout",
          "text": [
            "訓練資料集對回歸模型的每筆平均Loss值 574.6698398842325\n",
            "驗證資料集對回歸模型的每筆平均Loss值 536.2770643363377\n"
          ]
        }
      ]
    }
  ]
}