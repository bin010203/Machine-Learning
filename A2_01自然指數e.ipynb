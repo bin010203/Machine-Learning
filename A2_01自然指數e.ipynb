{
  "nbformat": 4,
  "nbformat_minor": 0,
  "metadata": {
    "kernelspec": {
      "display_name": "Python 3",
      "language": "python",
      "name": "python3"
    },
    "language_info": {
      "codemirror_mode": {
        "name": "ipython",
        "version": 3
      },
      "file_extension": ".py",
      "mimetype": "text/x-python",
      "name": "python",
      "nbconvert_exporter": "python",
      "pygments_lexer": "ipython3",
      "version": "3.6.9"
    },
    "colab": {
      "name": "A2-01自然指數e.ipynb",
      "provenance": [],
      "collapsed_sections": [],
      "include_colab_link": true
    }
  },
  "cells": [
    {
      "cell_type": "markdown",
      "metadata": {
        "id": "view-in-github",
        "colab_type": "text"
      },
      "source": [
        "<a href=\"https://colab.research.google.com/github/bin010203/Machine-Learning/blob/main/A2_01%E8%87%AA%E7%84%B6%E6%8C%87%E6%95%B8e.ipynb\" target=\"_parent\"><img src=\"https://colab.research.google.com/assets/colab-badge.svg\" alt=\"Open In Colab\"/></a>"
      ]
    },
    {
      "cell_type": "markdown",
      "metadata": {
        "id": "mm4x-4koI8ZQ"
      },
      "source": [
        "# 實作01：了解自然指數e的定義和其近似值"
      ]
    },
    {
      "cell_type": "markdown",
      "metadata": {
        "id": "0tTQTiFuKB4V"
      },
      "source": [
        "### (1)掛載雲端硬碟"
      ]
    },
    {
      "cell_type": "code",
      "metadata": {
        "id": "Ixc2aPmnKE0z",
        "colab": {
          "base_uri": "https://localhost:8080/"
        },
        "outputId": "16308a9e-970f-4774-9925-e64020fd980a"
      },
      "source": [
        "from google.colab import drive\n",
        "drive.mount('/content/drive')"
      ],
      "execution_count": null,
      "outputs": [
        {
          "output_type": "stream",
          "name": "stdout",
          "text": [
            "Mounted at /content/drive\n"
          ]
        }
      ]
    },
    {
      "cell_type": "markdown",
      "metadata": {
        "id": "C1Smb1AKI8ZS"
      },
      "source": [
        "### (2)import必要的套件"
      ]
    },
    {
      "cell_type": "code",
      "metadata": {
        "id": "p-nVGunlsfCs"
      },
      "source": [
        "import numpy as np\n",
        "from IPython import display\n",
        "import matplotlib.pyplot as plt\n",
        "import matplotlib.font_manager as plt_font\n",
        "#要記得改為自己的字形檔案路徑\n",
        "twfont1 = plt_font.FontProperties(\n",
        "    fname=\"/content/drive/MyDrive/Colab Notebooks/kaiu.ttf\")\n",
        "#若 fname 沒有設定路徑檔案,此格不會出錯,但是後面繪圖用中文字形會出錯"
      ],
      "execution_count": null,
      "outputs": []
    },
    {
      "cell_type": "markdown",
      "metadata": {
        "id": "ZAlaj0wdI8Zf"
      },
      "source": [
        "### (3)定義還款倍數的計算函數f(x)=(1+1/x)<sup>x</sup>"
      ]
    },
    {
      "cell_type": "code",
      "source": [
        "# (1+1/x)**x"
      ],
      "metadata": {
        "id": "z8CClizM0pUA"
      },
      "execution_count": null,
      "outputs": []
    },
    {
      "cell_type": "code",
      "metadata": {
        "id": "XntxLpalI8Zg"
      },
      "source": [
        "def F(x):\n",
        "    return "
      ],
      "execution_count": null,
      "outputs": []
    },
    {
      "cell_type": "markdown",
      "metadata": {
        "id": "5roFotaEI8Zl"
      },
      "source": [
        "### (4)定義計息周期的陣列並計算還款倍數"
      ]
    },
    {
      "cell_type": "code",
      "source": [
        "# 1 ,2 ,4 ,12  ,52  ,365 ,365*24  ,365*24*60  ,365*24*60*60"
      ],
      "metadata": {
        "id": "9xgD_nvQ0wpn"
      },
      "execution_count": null,
      "outputs": []
    },
    {
      "cell_type": "code",
      "metadata": {
        "id": "5gjQI6SoI8Zm",
        "colab": {
          "base_uri": "https://localhost:8080/"
        },
        "outputId": "f6fe9343-cfad-4316-a720-5ba9391565a5"
      },
      "source": [
        "x=np.array([])\n",
        "print(F(x))"
      ],
      "execution_count": null,
      "outputs": [
        {
          "output_type": "stream",
          "name": "stdout",
          "text": [
            "[2.         2.25       2.44140625 2.61303529 2.69259695 2.71456748\n",
            " 2.71812669 2.71827924 2.71828178]\n"
          ]
        }
      ]
    },
    {
      "cell_type": "markdown",
      "metadata": {
        "id": "Iy191J_EI8Zr"
      },
      "source": [
        "### (5)劃出本息倍數和log(計息周期)的關係圖"
      ]
    },
    {
      "cell_type": "code",
      "source": [
        "# np.log10(x), F(x)"
      ],
      "metadata": {
        "id": "9zEI8sp40skH"
      },
      "execution_count": null,
      "outputs": []
    },
    {
      "cell_type": "code",
      "metadata": {
        "id": "JeuZ7LtGI8Zs",
        "colab": {
          "base_uri": "https://localhost:8080/",
          "height": 436
        },
        "outputId": "e8f1b764-5ef5-4929-a589-b08e2e5683bb"
      },
      "source": [
        "plt.figure(figsize=(12,6))\n",
        "plt.title(\"本息倍數和計息周期的關係\",fontproperties=twfont1,fontsize=20) \n",
        "plt.xlabel(\"log(計息周期)\",fontproperties=twfont1,fontsize=20) \n",
        "plt.ylabel(\"本息倍數\",fontproperties=twfont1,fontsize=20)\n",
        "plt.plot()"
      ],
      "execution_count": null,
      "outputs": [
        {
          "output_type": "execute_result",
          "data": {
            "text/plain": [
              "[<matplotlib.lines.Line2D at 0x7fde882f4f90>]"
            ]
          },
          "metadata": {},
          "execution_count": 5
        },
        {
          "output_type": "display_data",
          "data": {
            "image/png": "[encoded data removed]",
            "text/plain": [
              "<Figure size 864x432 with 1 Axes>"
            ]
          },
          "metadata": {
            "needs_background": "light"
          }
        }
      ]
    },
    {
      "cell_type": "code",
      "metadata": {
        "id": "sZrm8ei-I8Zx"
      },
      "source": [
        ""
      ],
      "execution_count": null,
      "outputs": []
    }
  ]
}