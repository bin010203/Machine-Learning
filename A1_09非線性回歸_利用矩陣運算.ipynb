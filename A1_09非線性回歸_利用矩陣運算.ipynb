{
  "nbformat": 4,
  "nbformat_minor": 0,
  "metadata": {
    "kernelspec": {
      "display_name": "Python 3",
      "language": "python",
      "name": "python3"
    },
    "language_info": {
      "codemirror_mode": {
        "name": "ipython",
        "version": 3
      },
      "file_extension": ".py",
      "mimetype": "text/x-python",
      "name": "python",
      "nbconvert_exporter": "python",
      "pygments_lexer": "ipython3",
      "version": "3.6.9"
    },
    "colab": {
      "name": "A1-09非線性回歸-利用矩陣運算.ipynb",
      "provenance": [],
      "collapsed_sections": [],
      "toc_visible": true,
      "include_colab_link": true
    }
  },
  "cells": [
    {
      "cell_type": "markdown",
      "metadata": {
        "id": "view-in-github",
        "colab_type": "text"
      },
      "source": [
        "<a href=\"https://colab.research.google.com/github/bin010203/Machine-Learning/blob/main/A1_09%E9%9D%9E%E7%B7%9A%E6%80%A7%E5%9B%9E%E6%AD%B8_%E5%88%A9%E7%94%A8%E7%9F%A9%E9%99%A3%E9%81%8B%E7%AE%97.ipynb\" target=\"_parent\"><img src=\"https://colab.research.google.com/assets/colab-badge.svg\" alt=\"Open In Colab\"/></a>"
      ]
    },
    {
      "cell_type": "markdown",
      "metadata": {
        "id": "e7TYvfSrsfCp"
      },
      "source": [
        "# 實作09：非線性回歸-利用矩陣運算\n",
        "###自變數x的3次方的非線性迴歸"
      ]
    },
    {
      "cell_type": "markdown",
      "metadata": {
        "id": "52kgrwu1shG3"
      },
      "source": [
        "### (0)掛載雲端硬碟"
      ]
    },
    {
      "cell_type": "code",
      "metadata": {
        "id": "LWaoHwrHsrYA",
        "colab": {
          "base_uri": "https://localhost:8080/"
        },
        "outputId": "426af6db-9f86-4674-e724-08aa2c486462"
      },
      "source": [
        "from google.colab import drive\n",
        "drive.mount('/content/drive')"
      ],
      "execution_count": null,
      "outputs": [
        {
          "output_type": "stream",
          "name": "stdout",
          "text": [
            "Drive already mounted at /content/drive; to attempt to forcibly remount, call drive.mount(\"/content/drive\", force_remount=True).\n"
          ]
        }
      ]
    },
    {
      "cell_type": "markdown",
      "metadata": {
        "id": "2NOEbnN8sfCr"
      },
      "source": [
        "### (1)import必要的套件"
      ]
    },
    {
      "cell_type": "code",
      "source": [
        "# /content/drive/MyDrive/Colab Notebooks/kaiu.ttf"
      ],
      "metadata": {
        "id": "tT_cX4eO08ig"
      },
      "execution_count": null,
      "outputs": []
    },
    {
      "cell_type": "code",
      "metadata": {
        "id": "p-nVGunlsfCs"
      },
      "source": [
        "import numpy as np\n",
        "from IPython import display\n",
        "import matplotlib.pyplot as plt\n",
        "import matplotlib.font_manager as plt_font\n",
        "#要記得改為自己的字形檔案路徑\n",
        "twfont1 = plt_font.FontProperties(\n",
        "    fname=\"\")\n",
        "#若 fname 沒有設定路徑檔案,此格不會出錯,但是後面繪圖用中文字形會出錯"
      ],
      "execution_count": null,
      "outputs": []
    },
    {
      "cell_type": "markdown",
      "metadata": {
        "id": "tOoOWi93qPgf"
      },
      "source": [
        "### (2)定義特徵縮放的函數"
      ]
    },
    {
      "cell_type": "code",
      "source": [
        "# (data-data.min())/(data.max()-data.min())\n",
        "# (data-data.mean())/data.std()"
      ],
      "metadata": {
        "id": "_rOuqVgv0RBe"
      },
      "execution_count": null,
      "outputs": []
    },
    {
      "cell_type": "code",
      "metadata": {
        "id": "oDtjfYUIqQwU"
      },
      "source": [
        "#參數kind預設為0，做標準化；kind設為1，做歸一化\n",
        "def FeatureScaling(data,kind=0):\n",
        "  if kind==1:\n",
        "    return \n",
        "  else:\n",
        "    return\n",
        "#若 return 沒有設定數學公式,此格不會出錯,但是後面訓練時會出錯"
      ],
      "execution_count": null,
      "outputs": []
    },
    {
      "cell_type": "markdown",
      "metadata": {
        "id": "OVOf8tNGsfCz"
      },
      "source": [
        "### (3)將原始資料分為訓練資料集和驗證資料集"
      ]
    },
    {
      "cell_type": "code",
      "source": [
        "# /content/drive/MyDrive/Colab Notebooks/SalesVolume.csv\n",
        "# FeatureScaling(data[0],0)"
      ],
      "metadata": {
        "id": "43L9n2KV00rN"
      },
      "execution_count": null,
      "outputs": []
    },
    {
      "cell_type": "code",
      "metadata": {
        "id": "XYHCBxhisfCz"
      },
      "source": [
        "#由自己的雲端SalesVolume.csv檔案載入資料集\n",
        "data= np.loadtxt(\n",
        "    \"\",\n",
        "    delimiter=\",\")\n",
        "#第0列為廣告推播次數，並做特徵縮放，\n",
        "#第2參數設為0是標準化，設為1是歸一化\n",
        "data_x=\n",
        "data_y=data[1] #第1列為商品銷售數量\n",
        "#訓練資料集12筆\n",
        "train_x=data_x[:12]\n",
        "train_y=data_y[:12]\n",
        "#驗證資料集8筆\n",
        "valid_x=data_x[12:]\n",
        "valid_y=data_y[12:]"
      ],
      "execution_count": null,
      "outputs": []
    },
    {
      "cell_type": "code",
      "source": [
        "mtx_train_x.shape"
      ],
      "metadata": {
        "colab": {
          "base_uri": "https://localhost:8080/"
        },
        "id": "hrBL-bH36IvK",
        "outputId": "7a2a6795-5aec-4144-d89c-2d190389cc8c"
      },
      "execution_count": null,
      "outputs": [
        {
          "output_type": "execute_result",
          "data": {
            "text/plain": [
              "(12, 3)"
            ]
          },
          "metadata": {},
          "execution_count": 52
        }
      ]
    },
    {
      "cell_type": "code",
      "source": [
        "mtx_train_x"
      ],
      "metadata": {
        "id": "mabfMOjF48A1"
      },
      "execution_count": null,
      "outputs": []
    },
    {
      "cell_type": "code",
      "source": [
        "mtx_train_y.shape"
      ],
      "metadata": {
        "colab": {
          "base_uri": "https://localhost:8080/"
        },
        "id": "dPRIRs3q6bB4",
        "outputId": "366da133-c399-436b-8a8e-0490a88bd7c2"
      },
      "execution_count": null,
      "outputs": [
        {
          "output_type": "execute_result",
          "data": {
            "text/plain": [
              "(12, 1)"
            ]
          },
          "metadata": {},
          "execution_count": 53
        }
      ]
    },
    {
      "cell_type": "code",
      "source": [
        "mtx_train_y"
      ],
      "metadata": {
        "id": "J0NSQIPk49SJ"
      },
      "execution_count": null,
      "outputs": []
    },
    {
      "cell_type": "markdown",
      "metadata": {
        "id": "euup-ZgasfC9"
      },
      "source": [
        "### (4)產生自變數資料和依變數資料的矩陣"
      ]
    },
    {
      "cell_type": "code",
      "source": [
        "# np.vstack([x,x**2,x**3]).T"
      ],
      "metadata": {
        "id": "ZPS-pjBs1S_w"
      },
      "execution_count": null,
      "outputs": []
    },
    {
      "cell_type": "code",
      "metadata": {
        "id": "F_rlB_uxsfC9"
      },
      "source": [
        "#自變數x的3次方的非線性迴歸\n",
        "#垂直堆疊x,x**2,x**3，再轉置組成X矩陣\n",
        "def Xmatrix(x):\n",
        "  return \n",
        "#若 return 沒有設定數學公式,此格不會出錯,但是後面訓練時會出錯\n",
        "#將訓練集資料和驗證集資料的自變數x轉成[K列m+1行]矩陣\n",
        "mtx_train_x=Xmatrix(train_x)\n",
        "mtx_valid_x=Xmatrix(valid_x)\n",
        "#將訓練集資料和驗證集資料的依變數y轉成[K列1行]矩陣\n",
        "mtx_train_y=train_y.reshape((-1,1))\n",
        "mtx_valid_y=valid_y.reshape((-1,1))"
      ],
      "execution_count": null,
      "outputs": []
    },
    {
      "cell_type": "markdown",
      "metadata": {
        "id": "NgSE-hQIsfDC"
      },
      "source": [
        "### (5)隨機初始化迴歸係數矩陣"
      ]
    },
    {
      "cell_type": "code",
      "source": [
        "# np.random.rand(3).reshape((3,1))"
      ],
      "metadata": {
        "id": "finckJws22VU"
      },
      "execution_count": null,
      "outputs": []
    },
    {
      "cell_type": "code",
      "metadata": {
        "id": "ZvRtY7tUsfDD"
      },
      "source": [
        "#亂數初始化迴歸係數為[m列1行]矩陣\n",
        "b=np.random.rand(1)\n",
        "W=\n",
        "b"
      ],
      "execution_count": null,
      "outputs": []
    },
    {
      "cell_type": "code",
      "source": [
        "W"
      ],
      "metadata": {
        "id": "1iaGhsYy1fGw"
      },
      "execution_count": null,
      "outputs": []
    },
    {
      "cell_type": "code",
      "source": [
        "W.shape"
      ],
      "metadata": {
        "colab": {
          "base_uri": "https://localhost:8080/"
        },
        "id": "5R9206ZI8fe7",
        "outputId": "3c5868c4-5eb2-47a4-a202-47506c99b382"
      },
      "execution_count": null,
      "outputs": [
        {
          "output_type": "execute_result",
          "data": {
            "text/plain": [
              "(3, 1)"
            ]
          },
          "metadata": {},
          "execution_count": 54
        }
      ]
    },
    {
      "cell_type": "markdown",
      "metadata": {
        "id": "iRzulqTosfDI"
      },
      "source": [
        "### (6)計算迴歸模型函數的預測結果矩陣"
      ]
    },
    {
      "cell_type": "code",
      "source": [
        "# np.dot(x,W)+b"
      ],
      "metadata": {
        "id": "8ZEDSfM-2X9E"
      },
      "execution_count": null,
      "outputs": []
    },
    {
      "cell_type": "code",
      "metadata": {
        "id": "GJxfb387sfDK"
      },
      "source": [
        "def F(x):\n",
        "  return \n",
        "#若 return 沒有設定數學公式,此格不會出錯,但是後面訓練時會出錯"
      ],
      "execution_count": null,
      "outputs": []
    },
    {
      "cell_type": "markdown",
      "metadata": {
        "id": "KOaMV1OnsfDP"
      },
      "source": [
        "### (7)定義損失函數LOSS Funcation"
      ]
    },
    {
      "cell_type": "code",
      "source": [
        "# 0.5*np.sum((y-F(x))**2)"
      ],
      "metadata": {
        "id": "2-G9laB02fM9"
      },
      "execution_count": null,
      "outputs": []
    },
    {
      "cell_type": "code",
      "metadata": {
        "id": "XTyW225OsfDQ"
      },
      "source": [
        "def Loss(x, y):\n",
        "    return \n",
        "#若 return 沒有設定數學公式,此格不會出錯,但是後面訓練時會出錯"
      ],
      "execution_count": null,
      "outputs": []
    },
    {
      "cell_type": "markdown",
      "metadata": {
        "id": "Zf29pTtksfDU"
      },
      "source": [
        "### (8)設定學習率和權重更新次數"
      ]
    },
    {
      "cell_type": "code",
      "source": [
        "#  0.0001"
      ],
      "metadata": {
        "id": "lUBym-KO2l3S"
      },
      "execution_count": null,
      "outputs": []
    },
    {
      "cell_type": "code",
      "metadata": {
        "id": "z46vTH5msfDU"
      },
      "source": [
        "ETA =\n",
        "Step_Loss=[]"
      ],
      "execution_count": null,
      "outputs": []
    },
    {
      "cell_type": "markdown",
      "metadata": {
        "id": "EMoO8EUJsfDZ"
      },
      "source": [
        "### (9)開始訓練模型"
      ]
    },
    {
      "cell_type": "code",
      "metadata": {
        "id": "oQFf0n35sfDa",
        "colab": {
          "base_uri": "https://localhost:8080/"
        },
        "outputId": "d24588b9-4149-4de6-d65b-6452f842c41f"
      },
      "source": [
        "for epoch in range(10000):\n",
        "    #利用梯度下降更新迴歸係數\n",
        "    b=b-ETA*np.sum(F(mtx_train_x)-mtx_train_y)\n",
        "    W=W-ETA*np.dot(mtx_train_x.T,\n",
        "                   (F(mtx_train_x)-mtx_train_y))\n",
        "    if epoch%100==99:\n",
        "        current_loss = Loss(mtx_train_x, mtx_train_y)\n",
        "        Step_Loss.append(current_loss)\n",
        "        print(\"訓練次數:\",epoch+1,\"\\n偏值:\",b,\n",
        "              \"\\n權重:\",W,\"\\n損失函數:\",current_loss)\n",
        "        display.clear_output(wait=True)"
      ],
      "execution_count": null,
      "outputs": [
        {
          "output_type": "stream",
          "name": "stdout",
          "text": [
            "訓練次數: 10000 \n",
            "偏值: [403.94871199] \n",
            "權重: [[101.20831096]\n",
            " [ 26.5916385 ]\n",
            " [ -3.43679584]] \n",
            "損失函數: 2373.488073056886\n"
          ]
        }
      ]
    },
    {
      "cell_type": "markdown",
      "metadata": {
        "id": "-QsPx2hysfDe"
      },
      "source": [
        "### (10)畫圖檢查模型訓練結果"
      ]
    },
    {
      "cell_type": "code",
      "metadata": {
        "id": "_QCteZTKsfDf",
        "colab": {
          "base_uri": "https://localhost:8080/",
          "height": 362
        },
        "outputId": "2cff6992-fade-4fba-8c92-1a6b116f29df"
      },
      "source": [
        "plt.figure(figsize=(8,5))\n",
        "plt.title(\"訓練模型和數據關係圖\",\n",
        "          fontproperties=twfont1,fontsize=20) \n",
        "plt.xlabel(\"x資料\",fontproperties=twfont1,fontsize=20) \n",
        "plt.ylabel(\"y資料\",fontproperties=twfont1,fontsize=20)\n",
        "x = np.linspace(-1.7,2, 2000)\n",
        "plt.plot(x, F(Xmatrix(x)),label=\"模型函數\")\n",
        "plt.plot(train_x, train_y, 'go',label=\"訓練資料集\")\n",
        "plt.plot(valid_x, valid_y, 'ro',label=\"驗證資料集\")\n",
        "plt.legend(prop=twfont1)\n",
        "plt.show()"
      ],
      "execution_count": null,
      "outputs": [
        {
          "output_type": "display_data",
          "data": {
            "image/png": "[encoded data removed]",
            "text/plain": [
              "<Figure size 576x360 with 1 Axes>"
            ]
          },
          "metadata": {
            "needs_background": "light"
          }
        }
      ]
    },
    {
      "cell_type": "markdown",
      "metadata": {
        "id": "8Z7i_PousfDm"
      },
      "source": [
        "### (11)觀察Loss值隨訓練次數的變化"
      ]
    },
    {
      "cell_type": "code",
      "metadata": {
        "id": "OnNGm2nCsfDn",
        "colab": {
          "base_uri": "https://localhost:8080/",
          "height": 362
        },
        "outputId": "89901125-bc38-4c1b-e368-b70f8a5dfc74"
      },
      "source": [
        "plt.figure(figsize=(8,5))\n",
        "plt.title(\"Loss隨訓練次數的變化\",\n",
        "          fontproperties=twfont1,fontsize=20) \n",
        "plt.xlabel(\"訓練次數(x100)\",\n",
        "           fontproperties=twfont1,fontsize=20) \n",
        "plt.ylabel(\"Loss值\",\n",
        "           fontproperties=twfont1,fontsize=20)\n",
        "plt.plot(Step_Loss,\":o\")\n",
        "plt.show()"
      ],
      "execution_count": null,
      "outputs": [
        {
          "output_type": "display_data",
          "data": {
            "image/png": "[encoded data removed]",
            "text/plain": [
              "<Figure size 576x360 with 1 Axes>"
            ]
          },
          "metadata": {
            "needs_background": "light"
          }
        }
      ]
    },
    {
      "cell_type": "markdown",
      "metadata": {
        "id": "x58XUG56sfDr"
      },
      "source": [
        "### (12)比較訓練好的迴歸模型函數在訓練資料集和驗證資料集的每筆平均Loss值"
      ]
    },
    {
      "cell_type": "code",
      "metadata": {
        "id": "yz9NDLGDsfDt",
        "colab": {
          "base_uri": "https://localhost:8080/"
        },
        "outputId": "c3ea812f-9191-4da3-f677-cd2b7434dd29"
      },
      "source": [
        "print(\"訓練資料集對回歸模型的每筆平均Loss值\",\n",
        "      Loss(mtx_train_x, mtx_train_y)/np.size(train_x))\n",
        "print(\"驗證資料集對回歸模型的每筆平均Loss值\",\n",
        "      Loss(mtx_valid_x, mtx_valid_y)/np.size(valid_x))"
      ],
      "execution_count": null,
      "outputs": [
        {
          "output_type": "stream",
          "name": "stdout",
          "text": [
            "訓練資料集對回歸模型的每筆平均Loss值 197.7906727547405\n",
            "驗證資料集對回歸模型的每筆平均Loss值 131.36338152252114\n"
          ]
        }
      ]
    }
  ]
}