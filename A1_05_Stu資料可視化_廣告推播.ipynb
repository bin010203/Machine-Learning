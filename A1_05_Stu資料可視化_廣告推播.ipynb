{
  "nbformat": 4,
  "nbformat_minor": 0,
  "metadata": {
    "kernelspec": {
      "display_name": "Python 3",
      "language": "python",
      "name": "python3"
    },
    "language_info": {
      "codemirror_mode": {
        "name": "ipython",
        "version": 3
      },
      "file_extension": ".py",
      "mimetype": "text/x-python",
      "name": "python",
      "nbconvert_exporter": "python",
      "pygments_lexer": "ipython3",
      "version": "3.6.9"
    },
    "colab": {
      "name": "A1-05-Stu資料可視化_廣告推播.ipynb",
      "provenance": [],
      "collapsed_sections": [],
      "include_colab_link": true
    }
  },
  "cells": [
    {
      "cell_type": "markdown",
      "metadata": {
        "id": "view-in-github",
        "colab_type": "text"
      },
      "source": [
        "<a href=\"https://colab.research.google.com/github/bin010203/Machine-Learning/blob/main/A1_05_Stu%E8%B3%87%E6%96%99%E5%8F%AF%E8%A6%96%E5%8C%96_%E5%BB%A3%E5%91%8A%E6%8E%A8%E6%92%AD.ipynb\" target=\"_parent\"><img src=\"https://colab.research.google.com/assets/colab-badge.svg\" alt=\"Open In Colab\"/></a>"
      ]
    },
    {
      "cell_type": "markdown",
      "metadata": {
        "id": "uy536-KFmFmD"
      },
      "source": [
        "# 實作05：資料可視化分析"
      ]
    },
    {
      "cell_type": "markdown",
      "metadata": {
        "id": "MZahKO65mLPA"
      },
      "source": [
        "### (0)掛載雲端硬碟"
      ]
    },
    {
      "cell_type": "code",
      "metadata": {
        "id": "RbMvxfwqmUa5",
        "colab": {
          "base_uri": "https://localhost:8080/"
        },
        "outputId": "383e5adf-4dab-46f5-ef51-dfd82cb3c2c9"
      },
      "source": [
        "from google.colab import drive\n",
        "drive.mount('/content/drive')"
      ],
      "execution_count": 1,
      "outputs": [
        {
          "output_type": "stream",
          "name": "stdout",
          "text": [
            "Mounted at /content/drive\n"
          ]
        }
      ]
    },
    {
      "cell_type": "markdown",
      "metadata": {
        "id": "zzeQe4X7mFmF"
      },
      "source": [
        "### (1)import必要的套件"
      ]
    },
    {
      "cell_type": "code",
      "metadata": {
        "id": "spmwTL6mmFmF"
      },
      "source": [
        "import numpy as np\n",
        "import matplotlib.pyplot as plt\n",
        "import matplotlib.font_manager as plt_font\n",
        "twfont1 = plt_font.FontProperties(fname=\"/content/drive/MyDrive/Colab Notebooks/kaiu.ttf\")"
      ],
      "execution_count": 2,
      "outputs": []
    },
    {
      "cell_type": "markdown",
      "metadata": {
        "id": "UnS-k98wmFmM"
      },
      "source": [
        "### (2)將資料放到numpy ndarray"
      ]
    },
    {
      "cell_type": "code",
      "metadata": {
        "id": "Zg_fdKJbmFmN"
      },
      "source": [
        "#利用np.loadtxt由SalesVolume.csv檔案載入資料集\n",
        "data=np.loadtxt(\"/content/drive/MyDrive/Colab Notebooks/SalesVolume.csv\",delimiter=',')\n",
        "#將第1列資料為廣告推播次數取出為data_x\n",
        "data_x=data[0]\n",
        "#將第2列資料為商品銷售數量取出為data_y\n",
        "data_y=data[1]"
      ],
      "execution_count": 3,
      "outputs": []
    },
    {
      "cell_type": "markdown",
      "metadata": {
        "id": "1g9l-ej7mFmS"
      },
      "source": [
        "### (3)畫出當天產品銷售數量和廣告推播次數的關係分佈圖"
      ]
    },
    {
      "cell_type": "code",
      "metadata": {
        "id": "yS3c4VipmFmT",
        "colab": {
          "base_uri": "https://localhost:8080/",
          "height": 417
        },
        "outputId": "a477fb7a-ef73-4c37-f2a2-e19ecf312b46"
      },
      "source": [
        "plt.figure(figsize=(12,6))\n",
        "plt.title(\"產品銷售數量和廣告推播次數\",fontproperties=twfont1,fontsize=20) \n",
        "plt.xlabel(\"廣告推播次數x\",fontproperties=twfont1,fontsize=20) \n",
        "plt.ylabel(\"產品銷售數量y\",fontproperties=twfont1,fontsize=20) \n",
        "#利用np.plot()畫出data_x和data_y的關係圖\n",
        "plt.plot(data_x,data_y,'o')\n",
        "plt.show()"
      ],
      "execution_count": 4,
      "outputs": [
        {
          "output_type": "display_data",
          "data": {
            "image/png": "[encoded data removed]",
            "text/plain": [
              "<Figure size 864x432 with 1 Axes>"
            ]
          },
          "metadata": {
            "needs_background": "light"
          }
        }
      ]
    },
    {
      "cell_type": "markdown",
      "metadata": {
        "id": "E8otLpX7mFmZ"
      },
      "source": [
        "#### 根據圖形判斷其回歸模型是否有線性的趨勢或者非線性趨勢？你要如何假設這個迴歸模型函數？(請寫在下方格內)"
      ]
    },
    {
      "cell_type": "markdown",
      "metadata": {
        "id": "G4hZlIoTmFmZ"
      },
      "source": [
        ""
      ]
    }
  ]
}